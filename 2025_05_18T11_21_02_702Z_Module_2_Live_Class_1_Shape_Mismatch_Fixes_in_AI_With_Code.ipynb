{
  "cells": [
    {
      "cell_type": "markdown",
      "metadata": {
        "id": "view-in-github",
        "colab_type": "text"
      },
      "source": [
        "<a href=\"https://colab.research.google.com/github/rubelhosen79/AI-Engineering-Bootcamp/blob/main/2025_05_18T11_21_02_702Z_Module_2_Live_Class_1_Shape_Mismatch_Fixes_in_AI_With_Code.ipynb\" target=\"_parent\"><img src=\"https://colab.research.google.com/assets/colab-badge.svg\" alt=\"Open In Colab\"/></a>"
      ]
    },
    {
      "cell_type": "markdown",
      "id": "5fa2d53c",
      "metadata": {
        "id": "5fa2d53c"
      },
      "source": [
        "# ⚠️ Handling Shape Mismatches in AI – With Code Examples"
      ]
    },
    {
      "cell_type": "markdown",
      "id": "3b1c829a",
      "metadata": {
        "id": "3b1c829a"
      },
      "source": [
        "\n",
        "This notebook demonstrates how to handle shape mismatches in vector and matrix operations in real AI use cases.\n",
        "Each section includes:\n",
        "- What goes wrong\n",
        "- A fix using NumPy\n",
        "- Bengali analogy to understand the situation\n"
      ]
    },
    {
      "cell_type": "markdown",
      "id": "86fb5bb4",
      "metadata": {
        "id": "86fb5bb4"
      },
      "source": [
        "## 🔧 1. Vector Addition Mismatch in Recommender Systems"
      ]
    },
    {
      "cell_type": "markdown",
      "id": "cb5d4fa8",
      "metadata": {
        "id": "cb5d4fa8"
      },
      "source": [
        "**❌ Problem:** Can't add vectors of different lengths."
      ]
    },
    {
      "cell_type": "code",
      "execution_count": null,
      "id": "f860fdfd",
      "metadata": {
        "id": "f860fdfd"
      },
      "outputs": [],
      "source": [
        "import numpy as np\n",
        "user = np.array([1, 2, 3])\n",
        "item = np.array([4, 5])\n",
        "item_padded = np.pad(item, (0, len(user)-len(item)), constant_values=0)\n",
        "print(user + item_padded)"
      ]
    },
    {
      "cell_type": "markdown",
      "id": "79c01e2b",
      "metadata": {
        "id": "79c01e2b"
      },
      "source": [
        "**💡 AI Use Case:** Recommender systems with missing item features."
      ]
    },
    {
      "cell_type": "markdown",
      "id": "c8a55be5",
      "metadata": {
        "id": "c8a55be5"
      },
      "source": [
        "**🧠 Bengali Analogy:**\n",
        "একজন ছাত্র যদি ৩টা বিষয়ে নম্বর পায় আর আরেকজন ২টিতে, তুলনা করতে হলে একটা শূন্য ধরতে হবে।"
      ]
    },
    {
      "cell_type": "markdown",
      "id": "3397b742",
      "metadata": {
        "id": "3397b742"
      },
      "source": [
        "## 🔧 2. Matrix Shape Mismatch During Weight Updates"
      ]
    },
    {
      "cell_type": "markdown",
      "id": "a0dc093a",
      "metadata": {
        "id": "a0dc093a"
      },
      "source": [
        "**❌ Problem:** Gradient matrix too small for weight matrix."
      ]
    },
    {
      "cell_type": "code",
      "execution_count": null,
      "id": "78d31536",
      "metadata": {
        "id": "78d31536"
      },
      "outputs": [],
      "source": [
        "W = np.array([[1.0, 1.0], [1.0, 1.0]])\n",
        "dW = np.array([[0.1, 0.2]])\n",
        "dW_padded = np.pad(dW, ((0, 1), (0, 0)))\n",
        "updated_W = W - dW_padded\n",
        "print(updated_W)"
      ]
    },
    {
      "cell_type": "markdown",
      "id": "2078602f",
      "metadata": {
        "id": "2078602f"
      },
      "source": [
        "**💡 AI Use Case:** Weight update during backpropagation."
      ]
    },
    {
      "cell_type": "markdown",
      "id": "82b659e3",
      "metadata": {
        "id": "82b659e3"
      },
      "source": [
        "**🧠 Bengali Analogy:**\n",
        "শিক্ষক যদি দুই প্রশ্নে নম্বর দেন আর ছাত্র একটিতে উত্তর দেয়, তাহলে ফাঁকা অংশ পূরণ করতে হয়।"
      ]
    },
    {
      "cell_type": "markdown",
      "id": "4aa2a305",
      "metadata": {
        "id": "4aa2a305"
      },
      "source": [
        "## 🔧 3. Vector Dot Product Mismatch in NLP"
      ]
    },
    {
      "cell_type": "markdown",
      "id": "4564e3e7",
      "metadata": {
        "id": "4564e3e7"
      },
      "source": [
        "**❌ Problem:** Embeddings of different lengths."
      ]
    },
    {
      "cell_type": "code",
      "execution_count": null,
      "id": "d9e359d3",
      "metadata": {
        "id": "d9e359d3"
      },
      "outputs": [],
      "source": [
        "vec1 = np.array([0.3, 0.7, 0.5])\n",
        "vec2 = np.array([0.6, 0.9])\n",
        "vec2_padded = np.pad(vec2, (0, 1))\n",
        "print(np.dot(vec1, vec2_padded))"
      ]
    },
    {
      "cell_type": "markdown",
      "id": "506da0aa",
      "metadata": {
        "id": "506da0aa"
      },
      "source": [
        "**💡 AI Use Case:** Comparing embeddings from different models."
      ]
    },
    {
      "cell_type": "markdown",
      "id": "c7e39255",
      "metadata": {
        "id": "c7e39255"
      },
      "source": [
        "**🧠 Bengali Analogy:**\n",
        "একটা বাক্যে তিনটি শব্দের মান আছে, আরেকটায় দুইটি — তুলনা করতে সমান করতে হবে।"
      ]
    },
    {
      "cell_type": "markdown",
      "id": "bf0c4dc5",
      "metadata": {
        "id": "bf0c4dc5"
      },
      "source": [
        "## 🔧 4. Matrix Multiplication Failures in Neural Networks"
      ]
    },
    {
      "cell_type": "markdown",
      "id": "ec5640ec",
      "metadata": {
        "id": "ec5640ec"
      },
      "source": [
        "**❌ Problem:** Input vector doesn’t match layer weights."
      ]
    },
    {
      "cell_type": "code",
      "execution_count": null,
      "id": "93f32e93",
      "metadata": {
        "id": "93f32e93"
      },
      "outputs": [],
      "source": [
        "input_vec = np.array([[1, 2]])\n",
        "weights = np.array([[0.5], [0.8]])\n",
        "output = np.dot(input_vec, weights)\n",
        "print(output)"
      ]
    },
    {
      "cell_type": "markdown",
      "id": "30461271",
      "metadata": {
        "id": "30461271"
      },
      "source": [
        "**💡 AI Use Case:** Mismatch in input layer shape for NN."
      ]
    },
    {
      "cell_type": "markdown",
      "id": "f2eee2c1",
      "metadata": {
        "id": "f2eee2c1"
      },
      "source": [
        "**🧠 Bengali Analogy:**\n",
        "প্রশ্ন যদি দুই লাইনে থাকে আর উত্তর এক লাইনে — মিলবে না।"
      ]
    },
    {
      "cell_type": "markdown",
      "id": "066445cc",
      "metadata": {
        "id": "066445cc"
      },
      "source": [
        "## 🔧 5. Broadcasting Failures in Batch Processing"
      ]
    },
    {
      "cell_type": "markdown",
      "id": "b39fddd6",
      "metadata": {
        "id": "b39fddd6"
      },
      "source": [
        "**❌ Problem:** Bias doesn’t match batch input shape."
      ]
    },
    {
      "cell_type": "code",
      "execution_count": null,
      "id": "034641ca",
      "metadata": {
        "id": "034641ca"
      },
      "outputs": [],
      "source": [
        "batch = np.array([[1, 2, 3], [4, 5, 6]])\n",
        "bias = np.array([0.1, 0.1, 0.1])\n",
        "result = batch + bias\n",
        "print(result)"
      ]
    },
    {
      "cell_type": "markdown",
      "id": "3d22f253",
      "metadata": {
        "id": "3d22f253"
      },
      "source": [
        "**💡 AI Use Case:** Add bias across batches in training."
      ]
    },
    {
      "cell_type": "markdown",
      "id": "25ee47e8",
      "metadata": {
        "id": "25ee47e8"
      },
      "source": [
        "**🧠 Bengali Analogy:**\n",
        "একই নিয়ম সবার উপর প্রয়োগ করতে হলে সেটিকে সবার অনুযায়ী সম্প্রসারিত করতে হয়।"
      ]
    }
  ],
  "metadata": {
    "colab": {
      "provenance": [],
      "include_colab_link": true
    }
  },
  "nbformat": 4,
  "nbformat_minor": 5
}