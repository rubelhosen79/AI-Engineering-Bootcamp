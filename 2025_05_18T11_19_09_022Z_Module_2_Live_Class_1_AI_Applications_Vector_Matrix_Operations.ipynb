{
  "cells": [
    {
      "cell_type": "markdown",
      "metadata": {
        "id": "view-in-github",
        "colab_type": "text"
      },
      "source": [
        "<a href=\"https://colab.research.google.com/github/rubelhosen79/AI-Engineering-Bootcamp/blob/main/2025_05_18T11_19_09_022Z_Module_2_Live_Class_1_AI_Applications_Vector_Matrix_Operations.ipynb\" target=\"_parent\"><img src=\"https://colab.research.google.com/assets/colab-badge.svg\" alt=\"Open In Colab\"/></a>"
      ]
    },
    {
      "cell_type": "markdown",
      "id": "8295837f",
      "metadata": {
        "id": "8295837f"
      },
      "source": [
        "# 🤖 Applications of Vector and Matrix Operations in AI"
      ]
    },
    {
      "cell_type": "markdown",
      "id": "d96a738e",
      "metadata": {
        "id": "d96a738e"
      },
      "source": [
        "\n",
        "This notebook explains how basic vector and matrix operations are used in real Artificial Intelligence (AI) systems.\n",
        "You'll see:\n",
        "- What each operation is used for\n",
        "- Simple examples using Python (NumPy)\n",
        "- Bengali analogies to make concepts easy to understand\n"
      ]
    },
    {
      "cell_type": "markdown",
      "id": "772a0216",
      "metadata": {
        "id": "772a0216"
      },
      "source": [
        "## ✅ 1. Vector Addition"
      ]
    },
    {
      "cell_type": "markdown",
      "id": "2f7ee1ed",
      "metadata": {
        "id": "2f7ee1ed"
      },
      "source": [
        "**Use in AI:** Combine input features (e.g., inputs + bias in neural networks)"
      ]
    },
    {
      "cell_type": "code",
      "execution_count": null,
      "id": "22d105c9",
      "metadata": {
        "colab": {
          "base_uri": "https://localhost:8080/"
        },
        "id": "22d105c9",
        "outputId": "e1eb7dc0-9bf7-4805-e72a-5ecf655e915d"
      },
      "outputs": [
        {
          "output_type": "stream",
          "name": "stdout",
          "text": [
            "Output: [0.6 1.1 2.1]\n"
          ]
        }
      ],
      "source": [
        "import numpy as np\n",
        "input = np.array([0.5, 1.0, 2.0])\n",
        "bias = np.array([0.1, 0.1, 0.1])\n",
        "output = input + bias\n",
        "print('Output:', output)"
      ]
    },
    {
      "cell_type": "markdown",
      "id": "66f3da7b",
      "metadata": {
        "id": "66f3da7b"
      },
      "source": [
        "**🧠 Bengali Analogy:** তুমি যদি ছাত্রের মেধা আর অধ্যবসায় যোগ করো, পারফরম্যান্স পাওয়া যায়।"
      ]
    },
    {
      "cell_type": "markdown",
      "id": "2ec2b1c5",
      "metadata": {
        "id": "2ec2b1c5"
      },
      "source": [
        "## ✅ 2. Matrix Addition"
      ]
    },
    {
      "cell_type": "markdown",
      "id": "a687007f",
      "metadata": {
        "id": "a687007f"
      },
      "source": [
        "**Use in AI:** Add filters or update gradients during training"
      ]
    },
    {
      "cell_type": "code",
      "execution_count": null,
      "id": "5585a36f",
      "metadata": {
        "colab": {
          "base_uri": "https://localhost:8080/"
        },
        "id": "5585a36f",
        "outputId": "2876f5df-01fa-47b7-966e-1ee52e4f695f"
      },
      "outputs": [
        {
          "output_type": "stream",
          "name": "stdout",
          "text": [
            "Added matrix: [[1.5 2.5]\n",
            " [3.5 4.5]]\n"
          ]
        }
      ],
      "source": [
        "A = np.array([[1, 2], [3, 4]])\n",
        "B = np.array([[0.5, 0.5], [0.5, 0.5]])\n",
        "print('Added matrix:', A + B)"
      ]
    },
    {
      "cell_type": "markdown",
      "id": "b568c125",
      "metadata": {
        "id": "b568c125"
      },
      "source": [
        "**🧠 Bengali Analogy:** দুই শিক্ষক একসাথে নম্বর দিয়ে গড় তোলেন।"
      ]
    },
    {
      "cell_type": "markdown",
      "id": "5c51623a",
      "metadata": {
        "id": "5c51623a"
      },
      "source": [
        "## ✅ 3. Element-wise Multiplication"
      ]
    },
    {
      "cell_type": "markdown",
      "id": "00d2e3a0",
      "metadata": {
        "id": "00d2e3a0"
      },
      "source": [
        "**Use in AI:** Attention masking, scaling features, or feature selection"
      ]
    },
    {
      "cell_type": "code",
      "execution_count": null,
      "id": "db8d7746",
      "metadata": {
        "colab": {
          "base_uri": "https://localhost:8080/"
        },
        "id": "db8d7746",
        "outputId": "583e1ae0-3306-4a98-ca11-2b5c10a44555"
      },
      "outputs": [
        {
          "output_type": "stream",
          "name": "stdout",
          "text": [
            "Masked values: [0.8 0.  0.5]\n"
          ]
        }
      ],
      "source": [
        "mask = np.array([1, 0, 1])\n",
        "values = np.array([0.8, 0.3, 0.5])\n",
        "print('Masked values:', mask * values)"
      ]
    },
    {
      "cell_type": "markdown",
      "id": "c4444064",
      "metadata": {
        "id": "c4444064"
      },
      "source": [
        "**🧠 Bengali Analogy:** যে প্রশ্নগুলো পরীক্ষায় আসবে, শুধু সেগুলোই গুন করা হবে।"
      ]
    },
    {
      "cell_type": "markdown",
      "id": "bc9ddca6",
      "metadata": {
        "id": "bc9ddca6"
      },
      "source": [
        "## ✅ 4. Dot Product of Vectors"
      ]
    },
    {
      "cell_type": "markdown",
      "id": "e622da24",
      "metadata": {
        "id": "e622da24"
      },
      "source": [
        "**Use in AI:** Measure similarity (e.g., word embeddings or user-item scores)"
      ]
    },
    {
      "cell_type": "code",
      "execution_count": null,
      "id": "053a1a5f",
      "metadata": {
        "colab": {
          "base_uri": "https://localhost:8080/"
        },
        "id": "053a1a5f",
        "outputId": "2ff06dfc-33a5-4bcf-b5ec-e5cc5aa481bc"
      },
      "outputs": [
        {
          "output_type": "stream",
          "name": "stdout",
          "text": [
            "Dot product: 37\n"
          ]
        }
      ],
      "source": [
        "user = np.array([5, 2, 3])\n",
        "item = np.array([4, 1, 5])\n",
        "print('Dot product:', np.dot(user, item))"
      ]
    },
    {
      "cell_type": "markdown",
      "id": "24ea0bc1",
      "metadata": {
        "id": "24ea0bc1"
      },
      "source": [
        "**🧠 Bengali Analogy:** তুমি আর আমি সিনেমার রেটিং দিলাম, আমাদের রুচি মিল কতটা তা dot product বলে।"
      ]
    },
    {
      "cell_type": "markdown",
      "id": "0ef1aace",
      "metadata": {
        "id": "0ef1aace"
      },
      "source": [
        "## ✅ 5. Matrix Multiplication"
      ]
    },
    {
      "cell_type": "markdown",
      "id": "2f20a17e",
      "metadata": {
        "id": "2f20a17e"
      },
      "source": [
        "**Use in AI:** Neural network weight × input = prediction"
      ]
    },
    {
      "cell_type": "code",
      "execution_count": null,
      "id": "52f818db",
      "metadata": {
        "colab": {
          "base_uri": "https://localhost:8080/"
        },
        "id": "52f818db",
        "outputId": "718463b4-ccaa-4827-e630-b126db37591a"
      },
      "outputs": [
        {
          "output_type": "stream",
          "name": "stdout",
          "text": [
            "Prediction: [0.38 0.82]\n"
          ]
        }
      ],
      "source": [
        "inputs = np.array([0.5, 0.7])\n",
        "weights = np.array([[0.2, 0.8], [0.4, 0.6]])\n",
        "print('Prediction:', np.dot(inputs, weights))"
      ]
    },
    {
      "cell_type": "markdown",
      "id": "7f4f56a3",
      "metadata": {
        "id": "7f4f56a3"
      },
      "source": [
        "**🧠 Bengali Analogy:** প্রশ্নের মান × উত্তরের মান → মোট নম্বর।"
      ]
    },
    {
      "cell_type": "markdown",
      "id": "f4c6bf70",
      "metadata": {
        "id": "f4c6bf70"
      },
      "source": [
        "## ✅ 6. Broadcasting"
      ]
    },
    {
      "cell_type": "markdown",
      "id": "dca01b44",
      "metadata": {
        "id": "dca01b44"
      },
      "source": [
        "**Use in AI:** Apply biases, scale all values, normalize efficiently"
      ]
    },
    {
      "cell_type": "code",
      "execution_count": null,
      "id": "fe1892d3",
      "metadata": {
        "colab": {
          "base_uri": "https://localhost:8080/"
        },
        "id": "fe1892d3",
        "outputId": "cd3f1af2-199e-47da-df14-d774b8d3a0aa"
      },
      "outputs": [
        {
          "output_type": "stream",
          "name": "stdout",
          "text": [
            "After bias added: [[1.5 2.5]\n",
            " [3.5 4.5]]\n"
          ]
        }
      ],
      "source": [
        "image = np.array([[1, 2], [3, 4]])\n",
        "bias = 0.5\n",
        "print('After bias added:', image + bias)"
      ]
    },
    {
      "cell_type": "markdown",
      "id": "17a7b24b",
      "metadata": {
        "id": "17a7b24b"
      },
      "source": [
        "**🧠 Bengali Analogy:** একই নিয়ম/বই সবার জন্য কপি করে প্রয়োগ করা যায়।"
      ]
    }
  ],
  "metadata": {
    "colab": {
      "provenance": [],
      "include_colab_link": true
    },
    "language_info": {
      "name": "python"
    },
    "kernelspec": {
      "name": "python3",
      "display_name": "Python 3"
    }
  },
  "nbformat": 4,
  "nbformat_minor": 5
}