{
  "cells": [
    {
      "cell_type": "markdown",
      "metadata": {
        "id": "view-in-github",
        "colab_type": "text"
      },
      "source": [
        "<a href=\"https://colab.research.google.com/github/rubelhosen79/AI-Engineering-Bootcamp/blob/main/2025_05_18T09_52_54_219Z_Module_2_Live_Class_1_vector_matrix_operations.ipynb\" target=\"_parent\"><img src=\"https://colab.research.google.com/assets/colab-badge.svg\" alt=\"Open In Colab\"/></a>"
      ]
    },
    {
      "cell_type": "markdown",
      "id": "66730be6",
      "metadata": {
        "id": "66730be6"
      },
      "source": [
        "# **Easy Vector and Matrix Operations (With Examples Explanations and Analogies)**"
      ]
    },
    {
      "cell_type": "markdown",
      "source": [
        ">This Colab notebook explains important operations on vectors and matrices using code examples and simple language.\n",
        "\n",
        "\n"
      ],
      "metadata": {
        "id": "d0WF2_IhvTZX"
      },
      "id": "d0WF2_IhvTZX"
    },
    {
      "cell_type": "code",
      "source": [],
      "metadata": {
        "id": "jN21CD97vT7R"
      },
      "id": "jN21CD97vT7R",
      "execution_count": null,
      "outputs": []
    },
    {
      "cell_type": "markdown",
      "id": "6503163a",
      "metadata": {
        "id": "6503163a"
      },
      "source": []
    },
    {
      "cell_type": "markdown",
      "id": "b8c42b12",
      "metadata": {
        "id": "b8c42b12"
      },
      "source": [
        "## ✅ 1. Adding Vectors :\n",
        "\n",
        "Same length vectors can be added. Different lengths will raise an error."
      ]
    },
    {
      "cell_type": "markdown",
      "source": [],
      "metadata": {
        "id": "AEje9iCjvh3z"
      },
      "id": "AEje9iCjvh3z"
    },
    {
      "cell_type": "code",
      "source": [],
      "metadata": {
        "id": "5olOJE7Wv1FV"
      },
      "id": "5olOJE7Wv1FV",
      "execution_count": null,
      "outputs": []
    },
    {
      "cell_type": "markdown",
      "id": "35c35cf7",
      "metadata": {
        "id": "35c35cf7"
      },
      "source": [
        "🔹 When It Works :"
      ]
    },
    {
      "cell_type": "code",
      "execution_count": null,
      "id": "c0fba3aa",
      "metadata": {
        "id": "c0fba3aa",
        "outputId": "1c23e3a0-0f6f-41f1-f208-85108af8d0cb"
      },
      "outputs": [
        {
          "name": "stdout",
          "output_type": "stream",
          "text": [
            "[5 7 9]\n"
          ]
        }
      ],
      "source": [
        "import numpy as np\n",
        "A = np.array([1, 2, 3])\n",
        "B = np.array([4, 5, 6])\n",
        "print(A + B)"
      ]
    },
    {
      "cell_type": "markdown",
      "id": "f8764d53",
      "metadata": {
        "id": "f8764d53"
      },
      "source": [
        "✅ Works because both are the same length."
      ]
    },
    {
      "cell_type": "code",
      "source": [],
      "metadata": {
        "id": "fRA4zwLpvozf"
      },
      "id": "fRA4zwLpvozf",
      "execution_count": null,
      "outputs": []
    },
    {
      "cell_type": "markdown",
      "source": [
        "❌ When It Fails :"
      ],
      "metadata": {
        "id": "g3iMZ6v9vpAp"
      },
      "id": "g3iMZ6v9vpAp"
    },
    {
      "cell_type": "code",
      "execution_count": null,
      "id": "abb7b732",
      "metadata": {
        "id": "abb7b732",
        "outputId": "4e277227-635f-436d-b3c8-a3475f699c13"
      },
      "outputs": [
        {
          "ename": "ValueError",
          "evalue": "operands could not be broadcast together with shapes (3,) (2,) ",
          "output_type": "error",
          "traceback": [
            "\u001b[31m---------------------------------------------------------------------------\u001b[39m",
            "\u001b[31mValueError\u001b[39m                                Traceback (most recent call last)",
            "\u001b[36mCell\u001b[39m\u001b[36m \u001b[39m\u001b[32mIn[2]\u001b[39m\u001b[32m, line 3\u001b[39m\n\u001b[32m      1\u001b[39m A = np.array([\u001b[32m1\u001b[39m, \u001b[32m2\u001b[39m, \u001b[32m3\u001b[39m])\n\u001b[32m      2\u001b[39m B = np.array([\u001b[32m4\u001b[39m, \u001b[32m5\u001b[39m])\n\u001b[32m----> \u001b[39m\u001b[32m3\u001b[39m \u001b[38;5;28mprint\u001b[39m(\u001b[43mA\u001b[49m\u001b[43m \u001b[49m\u001b[43m+\u001b[49m\u001b[43m \u001b[49m\u001b[43mB\u001b[49m)  \u001b[38;5;66;03m# This will raise an error\u001b[39;00m\n",
            "\u001b[31mValueError\u001b[39m: operands could not be broadcast together with shapes (3,) (2,) "
          ]
        }
      ],
      "source": [
        "A = np.array([1, 2, 3])\n",
        "B = np.array([4, 5])\n",
        "print(A + B)  # This will raise an error"
      ]
    },
    {
      "cell_type": "markdown",
      "id": "3b8ece16",
      "metadata": {
        "id": "3b8ece16"
      },
      "source": [
        "❌ Fails because the numbers don't line up."
      ]
    },
    {
      "cell_type": "markdown",
      "id": "6db35349",
      "metadata": {
        "id": "6db35349"
      },
      "source": [
        ">তুমি যদি ৩টা আম নাও আর আমি ২টা, তাহলে প্রতিটির সঙ্গে জোড়া করা যাবে না।\n",
        "\n",
        "\n",
        "Explanation:\n",
        "Each position in one vector must match a position in the other to add. No extra or missing values allowed."
      ]
    },
    {
      "cell_type": "code",
      "execution_count": null,
      "id": "8c02dc3b",
      "metadata": {
        "id": "8c02dc3b"
      },
      "outputs": [],
      "source": []
    },
    {
      "cell_type": "markdown",
      "id": "2b0eb392",
      "metadata": {
        "id": "2b0eb392"
      },
      "source": [
        "## ✅ 2. Adding Matrices :\n",
        "\n",
        "Both matrices must have the same shape."
      ]
    },
    {
      "cell_type": "markdown",
      "id": "b674060f",
      "metadata": {
        "id": "b674060f"
      },
      "source": [
        "🔹 When It Works :"
      ]
    },
    {
      "cell_type": "code",
      "execution_count": null,
      "id": "f974cf50",
      "metadata": {
        "id": "f974cf50",
        "outputId": "61a4ea39-60b3-47ed-adc8-7121ce8b8e41"
      },
      "outputs": [
        {
          "name": "stdout",
          "output_type": "stream",
          "text": [
            "[[ 6  8]\n",
            " [10 12]]\n"
          ]
        }
      ],
      "source": [
        "A = np.array([[1, 2], [3, 4]])\n",
        "B = np.array([[5, 6], [7, 8]])\n",
        "print(A + B)"
      ]
    },
    {
      "cell_type": "markdown",
      "id": "08155810",
      "metadata": {
        "id": "08155810"
      },
      "source": [
        "✅ Works because both are 2 rows × 2 columns."
      ]
    },
    {
      "cell_type": "code",
      "execution_count": null,
      "id": "c0b0e3f7",
      "metadata": {
        "id": "c0b0e3f7"
      },
      "outputs": [],
      "source": []
    },
    {
      "cell_type": "markdown",
      "id": "26dd5827",
      "metadata": {
        "id": "26dd5827"
      },
      "source": []
    },
    {
      "cell_type": "markdown",
      "id": "3c259ca2",
      "metadata": {
        "id": "3c259ca2"
      },
      "source": [
        "❌ When It Fails :"
      ]
    },
    {
      "cell_type": "code",
      "execution_count": null,
      "id": "62483c87",
      "metadata": {
        "id": "62483c87",
        "outputId": "4c393e19-2726-401b-9a82-879877e46e09"
      },
      "outputs": [
        {
          "ename": "ValueError",
          "evalue": "operands could not be broadcast together with shapes (2,2) (1,3) ",
          "output_type": "error",
          "traceback": [
            "\u001b[31m---------------------------------------------------------------------------\u001b[39m",
            "\u001b[31mValueError\u001b[39m                                Traceback (most recent call last)",
            "\u001b[36mCell\u001b[39m\u001b[36m \u001b[39m\u001b[32mIn[4]\u001b[39m\u001b[32m, line 3\u001b[39m\n\u001b[32m      1\u001b[39m A = np.array([[\u001b[32m1\u001b[39m, \u001b[32m2\u001b[39m], [\u001b[32m3\u001b[39m, \u001b[32m4\u001b[39m]])\n\u001b[32m      2\u001b[39m B = np.array([[\u001b[32m5\u001b[39m, \u001b[32m6\u001b[39m, \u001b[32m7\u001b[39m]])\n\u001b[32m----> \u001b[39m\u001b[32m3\u001b[39m \u001b[38;5;28mprint\u001b[39m(\u001b[43mA\u001b[49m\u001b[43m \u001b[49m\u001b[43m+\u001b[49m\u001b[43m \u001b[49m\u001b[43mB\u001b[49m)  \u001b[38;5;66;03m# Error due to shape mismatch\u001b[39;00m\n",
            "\u001b[31mValueError\u001b[39m: operands could not be broadcast together with shapes (2,2) (1,3) "
          ]
        }
      ],
      "source": [
        "A = np.array([[1, 2], [3, 4]])\n",
        "B = np.array([[5, 6, 7]])\n",
        "print(A + B)  # Error due to shape mismatch"
      ]
    },
    {
      "cell_type": "markdown",
      "id": "9ad9f97e",
      "metadata": {
        "id": "9ad9f97e"
      },
      "source": [
        "❌ Fails because the shapes are different."
      ]
    },
    {
      "cell_type": "markdown",
      "id": "e77587b5",
      "metadata": {
        "id": "e77587b5"
      },
      "source": [
        ">যদি দুটি ক্লাসের রোল নম্বর তালিকার রো এবং কলাম না মিলে, তাহলে একসাথে যোগ করা যাবে না।\n",
        "\n",
        "Explanation:\n",
        "\n",
        "Matrix addition is element-wise: each cell in one matrix must match with a cell in the same position in the other."
      ]
    },
    {
      "cell_type": "code",
      "execution_count": null,
      "id": "7cdc5118",
      "metadata": {
        "id": "7cdc5118"
      },
      "outputs": [],
      "source": []
    },
    {
      "cell_type": "markdown",
      "id": "43a21515",
      "metadata": {
        "id": "43a21515"
      },
      "source": []
    },
    {
      "cell_type": "markdown",
      "id": "2587b81d",
      "metadata": {
        "id": "2587b81d"
      },
      "source": [
        "## ✅ 3. Vector Element-wise Multiplication :\n",
        "\n",
        "Element-wise multiplication needs same length."
      ]
    },
    {
      "cell_type": "markdown",
      "id": "881f648d",
      "metadata": {
        "id": "881f648d"
      },
      "source": [
        "🔹 When It Works :"
      ]
    },
    {
      "cell_type": "code",
      "execution_count": null,
      "id": "43ef62e2",
      "metadata": {
        "id": "43ef62e2",
        "outputId": "3e9eeda6-8515-4753-ff98-b689711c6bde"
      },
      "outputs": [
        {
          "name": "stdout",
          "output_type": "stream",
          "text": [
            "[ 4 10 18]\n"
          ]
        }
      ],
      "source": [
        "A = np.array([1, 2, 3])\n",
        "B = np.array([4, 5, 6])\n",
        "print(A * B)"
      ]
    },
    {
      "cell_type": "markdown",
      "id": "227d5b68",
      "metadata": {
        "id": "227d5b68"
      },
      "source": [
        "✅ Works when both have the same number of items."
      ]
    },
    {
      "cell_type": "code",
      "source": [],
      "metadata": {
        "id": "P-hBABI3wS4A"
      },
      "id": "P-hBABI3wS4A",
      "execution_count": null,
      "outputs": []
    },
    {
      "cell_type": "markdown",
      "id": "087e1be5",
      "metadata": {
        "id": "087e1be5"
      },
      "source": [
        "❌ When It Fails :"
      ]
    },
    {
      "cell_type": "code",
      "execution_count": null,
      "id": "978b4819",
      "metadata": {
        "id": "978b4819",
        "outputId": "97a0452a-2f14-4469-a605-7b485cc66701"
      },
      "outputs": [
        {
          "ename": "ValueError",
          "evalue": "operands could not be broadcast together with shapes (3,) (2,) ",
          "output_type": "error",
          "traceback": [
            "\u001b[31m---------------------------------------------------------------------------\u001b[39m",
            "\u001b[31mValueError\u001b[39m                                Traceback (most recent call last)",
            "\u001b[36mCell\u001b[39m\u001b[36m \u001b[39m\u001b[32mIn[6]\u001b[39m\u001b[32m, line 3\u001b[39m\n\u001b[32m      1\u001b[39m A = np.array([\u001b[32m1\u001b[39m, \u001b[32m2\u001b[39m, \u001b[32m3\u001b[39m])\n\u001b[32m      2\u001b[39m B = np.array([\u001b[32m4\u001b[39m, \u001b[32m5\u001b[39m])\n\u001b[32m----> \u001b[39m\u001b[32m3\u001b[39m \u001b[38;5;28mprint\u001b[39m(\u001b[43mA\u001b[49m\u001b[43m \u001b[49m\u001b[43m*\u001b[49m\u001b[43m \u001b[49m\u001b[43mB\u001b[49m)  \u001b[38;5;66;03m# Error\u001b[39;00m\n",
            "\u001b[31mValueError\u001b[39m: operands could not be broadcast together with shapes (3,) (2,) "
          ]
        }
      ],
      "source": [
        "A = np.array([1, 2, 3])\n",
        "B = np.array([4, 5])\n",
        "print(A * B)  # Error"
      ]
    },
    {
      "cell_type": "markdown",
      "id": "f0479ebb",
      "metadata": {
        "id": "f0479ebb"
      },
      "source": [
        "❌ Fails because items don’t line up."
      ]
    },
    {
      "cell_type": "markdown",
      "id": "931f60ea",
      "metadata": {
        "id": "931f60ea"
      },
      "source": [
        "যদি তোমার আর আমার তিন দিন করে কাজ থাকে, কিন্তু একজনের দুই দিনই কাজ থাকে, তাহলে প্রতিদিন গুণ করে হিসাব করা যাবে না।\n",
        "\n",
        "📘 Explanation:\n",
        "\n",
        "This is just like multiplying matching values in two lists. If one list is shorter, there's no match for the extra values."
      ]
    },
    {
      "cell_type": "code",
      "execution_count": null,
      "id": "cf37324d",
      "metadata": {
        "id": "cf37324d"
      },
      "outputs": [],
      "source": []
    },
    {
      "cell_type": "markdown",
      "id": "cb015c0d",
      "metadata": {
        "id": "cb015c0d"
      },
      "source": []
    },
    {
      "cell_type": "markdown",
      "id": "657f8c09",
      "metadata": {
        "id": "657f8c09"
      },
      "source": [
        "## ✅ 4. Matrix Element-wise Multiplication :\n",
        "\n",
        "Matrix shapes must match for element-wise multiplication."
      ]
    },
    {
      "cell_type": "markdown",
      "id": "a924f702",
      "metadata": {
        "id": "a924f702"
      },
      "source": [
        "🔹 When It Works :"
      ]
    },
    {
      "cell_type": "code",
      "execution_count": null,
      "id": "7a7e39c0",
      "metadata": {
        "id": "7a7e39c0",
        "outputId": "79d1e4aa-10a1-44c2-f26e-e8068bbcee41"
      },
      "outputs": [
        {
          "name": "stdout",
          "output_type": "stream",
          "text": [
            "[[ 5 12]\n",
            " [21 32]]\n"
          ]
        }
      ],
      "source": [
        "A = np.array([[1, 2], [3, 4]])\n",
        "B = np.array([[5, 6], [7, 8]])\n",
        "print(A * B)"
      ]
    },
    {
      "cell_type": "markdown",
      "id": "ec6bc8e4",
      "metadata": {
        "id": "ec6bc8e4"
      },
      "source": [
        "✅ Works when both matrices are the same size."
      ]
    },
    {
      "cell_type": "code",
      "execution_count": null,
      "id": "7a1b0f7e",
      "metadata": {
        "id": "7a1b0f7e"
      },
      "outputs": [],
      "source": []
    },
    {
      "cell_type": "markdown",
      "id": "9a8d7d12",
      "metadata": {
        "id": "9a8d7d12"
      },
      "source": [
        "❌ When It Fails :"
      ]
    },
    {
      "cell_type": "code",
      "execution_count": null,
      "id": "f39a9d63",
      "metadata": {
        "id": "f39a9d63",
        "outputId": "d1605226-2b45-4ee9-ce6c-15ed4ef188ea"
      },
      "outputs": [
        {
          "ename": "ValueError",
          "evalue": "operands could not be broadcast together with shapes (2,2) (1,3) ",
          "output_type": "error",
          "traceback": [
            "\u001b[31m---------------------------------------------------------------------------\u001b[39m",
            "\u001b[31mValueError\u001b[39m                                Traceback (most recent call last)",
            "\u001b[36mCell\u001b[39m\u001b[36m \u001b[39m\u001b[32mIn[8]\u001b[39m\u001b[32m, line 3\u001b[39m\n\u001b[32m      1\u001b[39m A = np.array([[\u001b[32m1\u001b[39m, \u001b[32m2\u001b[39m], [\u001b[32m3\u001b[39m, \u001b[32m4\u001b[39m]])\n\u001b[32m      2\u001b[39m B = np.array([[\u001b[32m5\u001b[39m, \u001b[32m6\u001b[39m, \u001b[32m7\u001b[39m]])\n\u001b[32m----> \u001b[39m\u001b[32m3\u001b[39m \u001b[38;5;28mprint\u001b[39m(\u001b[43mA\u001b[49m\u001b[43m \u001b[49m\u001b[43m*\u001b[49m\u001b[43m \u001b[49m\u001b[43mB\u001b[49m)  \u001b[38;5;66;03m# Error\u001b[39;00m\n",
            "\u001b[31mValueError\u001b[39m: operands could not be broadcast together with shapes (2,2) (1,3) "
          ]
        }
      ],
      "source": [
        "A = np.array([[1, 2], [3, 4]])\n",
        "B = np.array([[5, 6, 7]])\n",
        "print(A * B)  # Error"
      ]
    },
    {
      "cell_type": "markdown",
      "id": "a3e2f526",
      "metadata": {
        "id": "a3e2f526"
      },
      "source": [
        "❌ Fails because the shape of B doesn’t match A."
      ]
    },
    {
      "cell_type": "markdown",
      "id": "ffd02261",
      "metadata": {
        "id": "ffd02261"
      },
      "source": [
        ">যদি একজন ছাত্র দুটি বিষয়ে নম্বর পায় আর আরেকজন তিনটিতে দেয়, তাহলে একসাথে গুণ করা সম্ভব নয়।\n",
        "\n",
        "Explanation:\n",
        "\n",
        "Each cell of one matrix must match exactly with a cell in the other. It's like multiplying each student’s score with subject weights — only possible when all subjects match."
      ]
    },
    {
      "cell_type": "code",
      "execution_count": null,
      "id": "abe12624",
      "metadata": {
        "id": "abe12624"
      },
      "outputs": [],
      "source": []
    },
    {
      "cell_type": "markdown",
      "id": "c4676a0a",
      "metadata": {
        "id": "c4676a0a"
      },
      "source": []
    },
    {
      "cell_type": "markdown",
      "id": "019b9158",
      "metadata": {
        "id": "019b9158"
      },
      "source": [
        "## ✅ 5. Dot Product of Vectors :\n",
        "\n",
        "Dot product requires same length vectors."
      ]
    },
    {
      "cell_type": "markdown",
      "id": "56eda7d4",
      "metadata": {
        "id": "56eda7d4"
      },
      "source": [
        "🔹 When It Works :"
      ]
    },
    {
      "cell_type": "code",
      "execution_count": null,
      "id": "6704da36",
      "metadata": {
        "id": "6704da36",
        "outputId": "a13e5eab-34c6-461f-b0ed-40d7b0059b3b"
      },
      "outputs": [
        {
          "name": "stdout",
          "output_type": "stream",
          "text": [
            "32\n"
          ]
        }
      ],
      "source": [
        "A = np.array([1, 2, 3])\n",
        "B = np.array([4, 5, 6])\n",
        "print(np.dot(A, B))"
      ]
    },
    {
      "cell_type": "markdown",
      "id": "2ce0a1f4",
      "metadata": {
        "id": "2ce0a1f4"
      },
      "source": [
        "✅ Works because both have the same length."
      ]
    },
    {
      "cell_type": "markdown",
      "id": "28c97891",
      "metadata": {
        "id": "28c97891"
      },
      "source": []
    },
    {
      "cell_type": "code",
      "execution_count": null,
      "id": "79aaa660",
      "metadata": {
        "id": "79aaa660"
      },
      "outputs": [],
      "source": []
    },
    {
      "cell_type": "markdown",
      "id": "b9901c97",
      "metadata": {
        "id": "b9901c97"
      },
      "source": [
        "❌ When It Fails :"
      ]
    },
    {
      "cell_type": "code",
      "execution_count": null,
      "id": "cfe285c7",
      "metadata": {
        "id": "cfe285c7",
        "outputId": "9de76132-6313-4d7c-cc59-ef925c051f81"
      },
      "outputs": [
        {
          "ename": "ValueError",
          "evalue": "shapes (3,) and (2,) not aligned: 3 (dim 0) != 2 (dim 0)",
          "output_type": "error",
          "traceback": [
            "\u001b[31m---------------------------------------------------------------------------\u001b[39m",
            "\u001b[31mValueError\u001b[39m                                Traceback (most recent call last)",
            "\u001b[36mCell\u001b[39m\u001b[36m \u001b[39m\u001b[32mIn[10]\u001b[39m\u001b[32m, line 3\u001b[39m\n\u001b[32m      1\u001b[39m A = np.array([\u001b[32m1\u001b[39m, \u001b[32m2\u001b[39m, \u001b[32m3\u001b[39m])\n\u001b[32m      2\u001b[39m B = np.array([\u001b[32m4\u001b[39m, \u001b[32m5\u001b[39m])\n\u001b[32m----> \u001b[39m\u001b[32m3\u001b[39m \u001b[38;5;28mprint\u001b[39m(\u001b[43mnp\u001b[49m\u001b[43m.\u001b[49m\u001b[43mdot\u001b[49m\u001b[43m(\u001b[49m\u001b[43mA\u001b[49m\u001b[43m,\u001b[49m\u001b[43m \u001b[49m\u001b[43mB\u001b[49m\u001b[43m)\u001b[49m)  \u001b[38;5;66;03m# Error\u001b[39;00m\n",
            "\u001b[31mValueError\u001b[39m: shapes (3,) and (2,) not aligned: 3 (dim 0) != 2 (dim 0)"
          ]
        }
      ],
      "source": [
        "A = np.array([1, 2, 3])\n",
        "B = np.array([4, 5])\n",
        "print(np.dot(A, B))  # Error"
      ]
    },
    {
      "cell_type": "markdown",
      "id": "590d4edf",
      "metadata": {
        "id": "590d4edf"
      },
      "source": [
        "❌ Fails due to length mismatch."
      ]
    },
    {
      "cell_type": "markdown",
      "id": "c4683966",
      "metadata": {
        "id": "c4683966"
      },
      "source": [
        ">তুমি যদি তিনটা সিনেমা রেট করো আর আমি যদি দুটো করি, তাহলে similarity হিসাব করা যাবে না।\n",
        "\n",
        "Explanation:\n",
        "\n",
        "Dot product means multiplying matching items and then adding the results. If one vector is too short, the matching breaks."
      ]
    },
    {
      "cell_type": "code",
      "execution_count": null,
      "id": "789f6f3a",
      "metadata": {
        "id": "789f6f3a"
      },
      "outputs": [],
      "source": []
    },
    {
      "cell_type": "markdown",
      "id": "bb502af6",
      "metadata": {
        "id": "bb502af6"
      },
      "source": []
    },
    {
      "cell_type": "markdown",
      "id": "33b45e2b",
      "metadata": {
        "id": "33b45e2b"
      },
      "source": [
        "## ✅ 6. Matrix Multiplication :\n",
        "\n",
        "Number of columns in A must match number of rows in B."
      ]
    },
    {
      "cell_type": "markdown",
      "id": "93568940",
      "metadata": {
        "id": "93568940"
      },
      "source": [
        "🔹 When It Works :"
      ]
    },
    {
      "cell_type": "code",
      "execution_count": null,
      "id": "b9339207",
      "metadata": {
        "id": "b9339207",
        "outputId": "10372c10-81b7-4fe8-ecd4-ccb8cc2fbac3"
      },
      "outputs": [
        {
          "name": "stdout",
          "output_type": "stream",
          "text": [
            "[[ 58  64]\n",
            " [139 154]]\n"
          ]
        }
      ],
      "source": [
        "A = np.array([[1, 2, 3], [4, 5, 6]])\n",
        "B = np.array([[7, 8], [9, 10], [11, 12]])\n",
        "print(np.dot(A, B))"
      ]
    },
    {
      "cell_type": "markdown",
      "id": "647bc482",
      "metadata": {
        "id": "647bc482"
      },
      "source": [
        "✅ A has 3 columns and B has 3 rows — so it works."
      ]
    },
    {
      "cell_type": "code",
      "execution_count": null,
      "id": "4a2ad139",
      "metadata": {
        "id": "4a2ad139"
      },
      "outputs": [],
      "source": []
    },
    {
      "cell_type": "markdown",
      "id": "487c344e",
      "metadata": {
        "id": "487c344e"
      },
      "source": [
        "❌ When It Fails :"
      ]
    },
    {
      "cell_type": "code",
      "execution_count": null,
      "id": "bb8babcc",
      "metadata": {
        "id": "bb8babcc",
        "outputId": "63f61004-92c6-4de4-8618-cb82fc252865"
      },
      "outputs": [
        {
          "ename": "ValueError",
          "evalue": "shapes (1,2) and (1,2) not aligned: 2 (dim 1) != 1 (dim 0)",
          "output_type": "error",
          "traceback": [
            "\u001b[31m---------------------------------------------------------------------------\u001b[39m",
            "\u001b[31mValueError\u001b[39m                                Traceback (most recent call last)",
            "\u001b[36mCell\u001b[39m\u001b[36m \u001b[39m\u001b[32mIn[20]\u001b[39m\u001b[32m, line 3\u001b[39m\n\u001b[32m      1\u001b[39m A = np.array([[\u001b[32m1\u001b[39m, \u001b[32m2\u001b[39m]])\n\u001b[32m      2\u001b[39m B = np.array([[\u001b[32m3\u001b[39m, \u001b[32m4\u001b[39m]])\n\u001b[32m----> \u001b[39m\u001b[32m3\u001b[39m \u001b[38;5;28mprint\u001b[39m(\u001b[43mnp\u001b[49m\u001b[43m.\u001b[49m\u001b[43mdot\u001b[49m\u001b[43m(\u001b[49m\u001b[43mA\u001b[49m\u001b[43m,\u001b[49m\u001b[43m \u001b[49m\u001b[43mB\u001b[49m\u001b[43m)\u001b[49m)  \u001b[38;5;66;03m# Error\u001b[39;00m\n",
            "\u001b[31mValueError\u001b[39m: shapes (1,2) and (1,2) not aligned: 2 (dim 1) != 1 (dim 0)"
          ]
        }
      ],
      "source": [
        "A = np.array([[1, 2]])\n",
        "B = np.array([[3, 4]])\n",
        "print(np.dot(A, B))  # Error"
      ]
    },
    {
      "cell_type": "markdown",
      "id": "e067b6f6",
      "metadata": {
        "id": "e067b6f6"
      },
      "source": [
        "❌ Fails because the number of columns in A ≠ rows in B."
      ]
    },
    {
      "cell_type": "markdown",
      "id": "26fcb185",
      "metadata": {
        "id": "26fcb185"
      },
      "source": [
        ">তুমি যদি তিনটা প্রশ্ন করো আর আমি যদি শুধু দুটো উত্তর দিই, তাহলে পুরো প্রশ্নপত্রের মূল্যায়ন সম্ভব নয়।\n",
        "\n",
        "Explanation:\n",
        "\n",
        "Matrix multiplication takes the dot product of A’s row and B’s column. They must have matching lengths."
      ]
    },
    {
      "cell_type": "code",
      "execution_count": null,
      "id": "37ffda5d",
      "metadata": {
        "id": "37ffda5d"
      },
      "outputs": [],
      "source": []
    },
    {
      "cell_type": "code",
      "execution_count": null,
      "id": "01479f8b",
      "metadata": {
        "id": "01479f8b"
      },
      "outputs": [],
      "source": []
    },
    {
      "cell_type": "markdown",
      "id": "0cee4135",
      "metadata": {
        "id": "0cee4135"
      },
      "source": [
        "#✅ ***Summary Table (When Things Work or Fail)  :  "
      ]
    },
    {
      "cell_type": "markdown",
      "id": "3e7ef8f5",
      "metadata": {
        "id": "3e7ef8f5"
      },
      "source": [
        "| **Operation**                          | **Rule You Must Follow**            | ✅ **Works When...**            | ❌ **Fails When...**                 |\n",
        "| -------------------------------------- | ----------------------------------- | ------------------------------ | ----------------------------------- |\n",
        "| **Vector Addition**                    | Vectors must be same length         | `[1, 2, 3] + [4, 5, 6]`        | `[1, 2, 3] + [4, 5]`                |\n",
        "| **Matrix Addition**                    | Same shape: rows and columns        | `2x2 + 2x2`                    | `2x2 + 1x3`                         |\n",
        "| **Vector Element-wise Multiplication** | Same length                         | `[1, 2, 3] * [4, 5, 6]`        | `[1, 2, 3] * [4, 5]`                |\n",
        "| **Matrix Element-wise Multiplication** | Same shape                          | `2x2 * 2x2`                    | `2x2 * 1x3`                         |\n",
        "| **Vector Dot Product**                 | Vectors must be same length         | `np.dot([1, 2, 3], [4, 5, 6])` | `np.dot([1, 2, 3], [4, 5])`         |\n",
        "| **Matrix Multiplication**              | Columns in A = Rows in B            | `np.dot(2x3, 3x2)`             | `np.dot(2x2, 1x2)`                  |\n",
        "\n"
      ]
    },
    {
      "cell_type": "code",
      "execution_count": null,
      "id": "2f730676",
      "metadata": {
        "id": "2f730676"
      },
      "outputs": [],
      "source": []
    }
  ],
  "metadata": {
    "kernelspec": {
      "display_name": ".venv",
      "language": "python",
      "name": "python3"
    },
    "language_info": {
      "codemirror_mode": {
        "name": "ipython",
        "version": 3
      },
      "file_extension": ".py",
      "mimetype": "text/x-python",
      "name": "python",
      "nbconvert_exporter": "python",
      "pygments_lexer": "ipython3",
      "version": "3.13.3"
    },
    "colab": {
      "provenance": [],
      "include_colab_link": true
    }
  },
  "nbformat": 4,
  "nbformat_minor": 5
}