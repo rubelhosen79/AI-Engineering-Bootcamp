{
  "nbformat": 4,
  "nbformat_minor": 0,
  "metadata": {
    "colab": {
      "provenance": [],
      "include_colab_link": true
    },
    "kernelspec": {
      "name": "python3",
      "display_name": "Python 3"
    },
    "language_info": {
      "name": "python"
    }
  },
  "cells": [
    {
      "cell_type": "markdown",
      "metadata": {
        "id": "view-in-github",
        "colab_type": "text"
      },
      "source": [
        "<a href=\"https://colab.research.google.com/github/rubelhosen79/AI-Engineering-Bootcamp/blob/main/2025_05_16T15_50_40_385Z_Main_Copy_of_Lecture_2.ipynb\" target=\"_parent\"><img src=\"https://colab.research.google.com/assets/colab-badge.svg\" alt=\"Open In Colab\"/></a>"
      ]
    },
    {
      "cell_type": "code",
      "execution_count": null,
      "metadata": {
        "id": "wENkrrKtLBqI"
      },
      "outputs": [],
      "source": []
    },
    {
      "cell_type": "code",
      "source": [],
      "metadata": {
        "id": "LnLzdhTYQ40d"
      },
      "execution_count": null,
      "outputs": []
    },
    {
      "cell_type": "markdown",
      "source": [
        "# **PART 1 : API Requests with requests module :GET and POST**\n",
        "\n",
        "\n",
        "\n",
        "\n",
        "\n"
      ],
      "metadata": {
        "id": "kA3j1yUQvehJ"
      }
    },
    {
      "cell_type": "markdown",
      "source": [],
      "metadata": {
        "id": "dgS1zPAlvoSs"
      }
    },
    {
      "cell_type": "markdown",
      "source": [
        "**Making GET  requests**"
      ],
      "metadata": {
        "id": "SNGAIvmdvo5U"
      }
    },
    {
      "cell_type": "code",
      "source": [
        "import requests\n",
        "# Ask a website for information\n",
        "response = requests.get(\"https://jsonplaceholder.typicode.com/posts/1\")\n",
        "\n",
        "print(response.status_code)\n",
        "print(response.json())\n",
        "print(response.text)"
      ],
      "metadata": {
        "id": "_Zu50MUYQ43D",
        "colab": {
          "base_uri": "https://localhost:8080/"
        },
        "outputId": "544713de-fc39-4f3d-993a-f8efbfde2bcd"
      },
      "execution_count": 1,
      "outputs": [
        {
          "output_type": "stream",
          "name": "stdout",
          "text": [
            "200\n",
            "{'userId': 1, 'id': 1, 'title': 'sunt aut facere repellat provident occaecati excepturi optio reprehenderit', 'body': 'quia et suscipit\\nsuscipit recusandae consequuntur expedita et cum\\nreprehenderit molestiae ut ut quas totam\\nnostrum rerum est autem sunt rem eveniet architecto'}\n",
            "{\n",
            "  \"userId\": 1,\n",
            "  \"id\": 1,\n",
            "  \"title\": \"sunt aut facere repellat provident occaecati excepturi optio reprehenderit\",\n",
            "  \"body\": \"quia et suscipit\\nsuscipit recusandae consequuntur expedita et cum\\nreprehenderit molestiae ut ut quas totam\\nnostrum rerum est autem sunt rem eveniet architecto\"\n",
            "}\n"
          ]
        }
      ]
    },
    {
      "cell_type": "code",
      "source": [],
      "metadata": {
        "id": "IKzv2RfYO1HH"
      },
      "execution_count": null,
      "outputs": []
    },
    {
      "cell_type": "code",
      "source": [
        "# Ask a website for information\n",
        "response = requests.get(\"https://jsonplaceholder.typicode.com/posts/1\")"
      ],
      "metadata": {
        "id": "sGU8RiDKO1KC"
      },
      "execution_count": 3,
      "outputs": []
    },
    {
      "cell_type": "code",
      "source": [
        "print(response.status_code)\n"
      ],
      "metadata": {
        "id": "jXlLeAUaPeem",
        "colab": {
          "base_uri": "https://localhost:8080/"
        },
        "outputId": "ff13330a-bce8-43cb-993b-c09a235d2143"
      },
      "execution_count": 4,
      "outputs": [
        {
          "output_type": "stream",
          "name": "stdout",
          "text": [
            "200\n"
          ]
        }
      ]
    },
    {
      "cell_type": "code",
      "source": [
        "print(response.json())"
      ],
      "metadata": {
        "id": "kJMxvjsaPESW",
        "colab": {
          "base_uri": "https://localhost:8080/"
        },
        "outputId": "16f061a8-e568-4076-882e-fd9299bb77a6"
      },
      "execution_count": 5,
      "outputs": [
        {
          "output_type": "stream",
          "name": "stdout",
          "text": [
            "{'userId': 1, 'id': 1, 'title': 'sunt aut facere repellat provident occaecati excepturi optio reprehenderit', 'body': 'quia et suscipit\\nsuscipit recusandae consequuntur expedita et cum\\nreprehenderit molestiae ut ut quas totam\\nnostrum rerum est autem sunt rem eveniet architecto'}\n"
          ]
        }
      ]
    },
    {
      "cell_type": "code",
      "source": [
        "print(response.text)\n"
      ],
      "metadata": {
        "id": "fVm-sUYcPV9m",
        "colab": {
          "base_uri": "https://localhost:8080/"
        },
        "outputId": "77873ddf-86ae-47fa-b9b9-70a233883072"
      },
      "execution_count": 6,
      "outputs": [
        {
          "output_type": "stream",
          "name": "stdout",
          "text": [
            "{\n",
            "  \"userId\": 1,\n",
            "  \"id\": 1,\n",
            "  \"title\": \"sunt aut facere repellat provident occaecati excepturi optio reprehenderit\",\n",
            "  \"body\": \"quia et suscipit\\nsuscipit recusandae consequuntur expedita et cum\\nreprehenderit molestiae ut ut quas totam\\nnostrum rerum est autem sunt rem eveniet architecto\"\n",
            "}\n"
          ]
        }
      ]
    },
    {
      "cell_type": "code",
      "source": [],
      "metadata": {
        "id": "g7YVSP1yPEbr"
      },
      "execution_count": null,
      "outputs": []
    },
    {
      "cell_type": "markdown",
      "source": [
        "**Making POST requests**"
      ],
      "metadata": {
        "id": "cJni996sv1B-"
      }
    },
    {
      "cell_type": "code",
      "source": [
        "url = \"https://jsonplaceholder.typicode.com/posts\"\n",
        "# payload = {\n",
        "#     \"title\": \"Learn APIs\",\n",
        "#     \"body\": \"POST example with requests\",\n",
        "#     \"userId\": 1\n",
        "# }\n",
        "\n",
        "payload = [\n",
        "{\n",
        "  \"title\": \"Person 1\",\n",
        "  \"body\": \"POST example with requests\",\n",
        "  \"userId\": 1,\n",
        "\n",
        "  },\n",
        "  {\n",
        "   \"title\": \"Person 2\",\n",
        "  \"body\": \"POST example with requests\",\n",
        "  \"userId\": 2,\n",
        "\n",
        "  },\n",
        "  {\n",
        "  \"title\": \"Person 3\",\n",
        "  \"body\": \"POST example with requests\",\n",
        "  \"userId\": 3,\n",
        "}\n",
        "]\n",
        "response = requests.post(url, json=payload)\n",
        "print(\"Status Code:\", response.status_code)\n",
        "# print(\"Response JSON:\", response.json())\n",
        "print(\"Response JSON:\", response.text)\n"
      ],
      "metadata": {
        "colab": {
          "base_uri": "https://localhost:8080/"
        },
        "id": "fv6mZ8HpO1NG",
        "outputId": "0a3b4a46-c105-4cba-9f71-d093331cd8bb"
      },
      "execution_count": 7,
      "outputs": [
        {
          "output_type": "stream",
          "name": "stdout",
          "text": [
            "Status Code: 201\n",
            "Response JSON: {\n",
            "  \"0\": {\n",
            "    \"title\": \"Person 1\",\n",
            "    \"body\": \"POST example with requests\",\n",
            "    \"userId\": 1\n",
            "  },\n",
            "  \"1\": {\n",
            "    \"title\": \"Person 2\",\n",
            "    \"body\": \"POST example with requests\",\n",
            "    \"userId\": 2\n",
            "  },\n",
            "  \"2\": {\n",
            "    \"title\": \"Person 3\",\n",
            "    \"body\": \"POST example with requests\",\n",
            "    \"userId\": 3\n",
            "  },\n",
            "  \"id\": 101\n",
            "}\n"
          ]
        }
      ]
    },
    {
      "cell_type": "code",
      "source": [],
      "metadata": {
        "id": "SJK0RObxRd3W"
      },
      "execution_count": null,
      "outputs": []
    },
    {
      "cell_type": "code",
      "source": [],
      "metadata": {
        "id": "-QNKpSZaReDI"
      },
      "execution_count": null,
      "outputs": []
    },
    {
      "cell_type": "markdown",
      "source": [],
      "metadata": {
        "id": "9n_mH1SqSaho"
      }
    },
    {
      "cell_type": "code",
      "source": [],
      "metadata": {
        "id": "fT2D44TbS2ge"
      },
      "execution_count": null,
      "outputs": []
    },
    {
      "cell_type": "code",
      "source": [
        "parameter_userID = {'userId':10}\n",
        "print(\"parameterID: \", parameter_userID)\n"
      ],
      "metadata": {
        "colab": {
          "base_uri": "https://localhost:8080/"
        },
        "id": "DhJtb_BtS3pu",
        "outputId": "682bc56e-2735-4792-a144-d83c87df83e1"
      },
      "execution_count": 8,
      "outputs": [
        {
          "output_type": "stream",
          "name": "stdout",
          "text": [
            "parameterID:  {'userId': 10}\n"
          ]
        }
      ]
    },
    {
      "cell_type": "code",
      "source": [
        "data_test_a = requests.get(\"https://jsonplaceholder.typicode.com/posts,\",params=parameter_userID)"
      ],
      "metadata": {
        "id": "U6WorHRxT0BM"
      },
      "execution_count": 10,
      "outputs": []
    },
    {
      "cell_type": "code",
      "source": [
        "print(data_test_a.status_code)"
      ],
      "metadata": {
        "id": "NQcxhTs_w868",
        "colab": {
          "base_uri": "https://localhost:8080/"
        },
        "outputId": "10d2b74c-ac30-420c-bcc7-0dd47a9c6c29"
      },
      "execution_count": 11,
      "outputs": [
        {
          "output_type": "stream",
          "name": "stdout",
          "text": [
            "404\n"
          ]
        }
      ]
    },
    {
      "cell_type": "code",
      "source": [
        "print(data_test_a.text)"
      ],
      "metadata": {
        "colab": {
          "base_uri": "https://localhost:8080/"
        },
        "id": "sNFVAcBnT0E-",
        "outputId": "b661eae0-8ea1-4273-85e7-464b5aa57a46"
      },
      "execution_count": 12,
      "outputs": [
        {
          "output_type": "stream",
          "name": "stdout",
          "text": [
            "{}\n"
          ]
        }
      ]
    },
    {
      "cell_type": "code",
      "source": [],
      "metadata": {
        "id": "sSSVwN43TFgQ"
      },
      "execution_count": null,
      "outputs": []
    },
    {
      "cell_type": "markdown",
      "source": [],
      "metadata": {
        "id": "aX1wjJkMxA_E"
      }
    },
    {
      "cell_type": "code",
      "source": [
        "\n",
        "response = requests.get(\"https://jsonplaceholder.typicode.com/posts\")\n",
        "# print(response.json())\n",
        "print(response.text)"
      ],
      "metadata": {
        "id": "rDgytBqBTFio",
        "colab": {
          "base_uri": "https://localhost:8080/"
        },
        "outputId": "fdcbe663-ec80-445a-84ab-66d97f4715a5"
      },
      "execution_count": 13,
      "outputs": [
        {
          "output_type": "stream",
          "name": "stdout",
          "text": [
            "[\n",
            "  {\n",
            "    \"userId\": 1,\n",
            "    \"id\": 1,\n",
            "    \"title\": \"sunt aut facere repellat provident occaecati excepturi optio reprehenderit\",\n",
            "    \"body\": \"quia et suscipit\\nsuscipit recusandae consequuntur expedita et cum\\nreprehenderit molestiae ut ut quas totam\\nnostrum rerum est autem sunt rem eveniet architecto\"\n",
            "  },\n",
            "  {\n",
            "    \"userId\": 1,\n",
            "    \"id\": 2,\n",
            "    \"title\": \"qui est esse\",\n",
            "    \"body\": \"est rerum tempore vitae\\nsequi sint nihil reprehenderit dolor beatae ea dolores neque\\nfugiat blanditiis voluptate porro vel nihil molestiae ut reiciendis\\nqui aperiam non debitis possimus qui neque nisi nulla\"\n",
            "  },\n",
            "  {\n",
            "    \"userId\": 1,\n",
            "    \"id\": 3,\n",
            "    \"title\": \"ea molestias quasi exercitationem repellat qui ipsa sit aut\",\n",
            "    \"body\": \"et iusto sed quo iure\\nvoluptatem occaecati omnis eligendi aut ad\\nvoluptatem doloribus vel accusantium quis pariatur\\nmolestiae porro eius odio et labore et velit aut\"\n",
            "  },\n",
            "  {\n",
            "    \"userId\": 1,\n",
            "    \"id\": 4,\n",
            "    \"title\": \"eum et est occaecati\",\n",
            "    \"body\": \"ullam et saepe reiciendis voluptatem adipisci\\nsit amet autem assumenda provident rerum culpa\\nquis hic commodi nesciunt rem tenetur doloremque ipsam iure\\nquis sunt voluptatem rerum illo velit\"\n",
            "  },\n",
            "  {\n",
            "    \"userId\": 1,\n",
            "    \"id\": 5,\n",
            "    \"title\": \"nesciunt quas odio\",\n",
            "    \"body\": \"repudiandae veniam quaerat sunt sed\\nalias aut fugiat sit autem sed est\\nvoluptatem omnis possimus esse voluptatibus quis\\nest aut tenetur dolor neque\"\n",
            "  },\n",
            "  {\n",
            "    \"userId\": 1,\n",
            "    \"id\": 6,\n",
            "    \"title\": \"dolorem eum magni eos aperiam quia\",\n",
            "    \"body\": \"ut aspernatur corporis harum nihil quis provident sequi\\nmollitia nobis aliquid molestiae\\nperspiciatis et ea nemo ab reprehenderit accusantium quas\\nvoluptate dolores velit et doloremque molestiae\"\n",
            "  },\n",
            "  {\n",
            "    \"userId\": 1,\n",
            "    \"id\": 7,\n",
            "    \"title\": \"magnam facilis autem\",\n",
            "    \"body\": \"dolore placeat quibusdam ea quo vitae\\nmagni quis enim qui quis quo nemo aut saepe\\nquidem repellat excepturi ut quia\\nsunt ut sequi eos ea sed quas\"\n",
            "  },\n",
            "  {\n",
            "    \"userId\": 1,\n",
            "    \"id\": 8,\n",
            "    \"title\": \"dolorem dolore est ipsam\",\n",
            "    \"body\": \"dignissimos aperiam dolorem qui eum\\nfacilis quibusdam animi sint suscipit qui sint possimus cum\\nquaerat magni maiores excepturi\\nipsam ut commodi dolor voluptatum modi aut vitae\"\n",
            "  },\n",
            "  {\n",
            "    \"userId\": 1,\n",
            "    \"id\": 9,\n",
            "    \"title\": \"nesciunt iure omnis dolorem tempora et accusantium\",\n",
            "    \"body\": \"consectetur animi nesciunt iure dolore\\nenim quia ad\\nveniam autem ut quam aut nobis\\net est aut quod aut provident voluptas autem voluptas\"\n",
            "  },\n",
            "  {\n",
            "    \"userId\": 1,\n",
            "    \"id\": 10,\n",
            "    \"title\": \"optio molestias id quia eum\",\n",
            "    \"body\": \"quo et expedita modi cum officia vel magni\\ndoloribus qui repudiandae\\nvero nisi sit\\nquos veniam quod sed accusamus veritatis error\"\n",
            "  },\n",
            "  {\n",
            "    \"userId\": 2,\n",
            "    \"id\": 11,\n",
            "    \"title\": \"et ea vero quia laudantium autem\",\n",
            "    \"body\": \"delectus reiciendis molestiae occaecati non minima eveniet qui voluptatibus\\naccusamus in eum beatae sit\\nvel qui neque voluptates ut commodi qui incidunt\\nut animi commodi\"\n",
            "  },\n",
            "  {\n",
            "    \"userId\": 2,\n",
            "    \"id\": 12,\n",
            "    \"title\": \"in quibusdam tempore odit est dolorem\",\n",
            "    \"body\": \"itaque id aut magnam\\npraesentium quia et ea odit et ea voluptas et\\nsapiente quia nihil amet occaecati quia id voluptatem\\nincidunt ea est distinctio odio\"\n",
            "  },\n",
            "  {\n",
            "    \"userId\": 2,\n",
            "    \"id\": 13,\n",
            "    \"title\": \"dolorum ut in voluptas mollitia et saepe quo animi\",\n",
            "    \"body\": \"aut dicta possimus sint mollitia voluptas commodi quo doloremque\\niste corrupti reiciendis voluptatem eius rerum\\nsit cumque quod eligendi laborum minima\\nperferendis recusandae assumenda consectetur porro architecto ipsum ipsam\"\n",
            "  },\n",
            "  {\n",
            "    \"userId\": 2,\n",
            "    \"id\": 14,\n",
            "    \"title\": \"voluptatem eligendi optio\",\n",
            "    \"body\": \"fuga et accusamus dolorum perferendis illo voluptas\\nnon doloremque neque facere\\nad qui dolorum molestiae beatae\\nsed aut voluptas totam sit illum\"\n",
            "  },\n",
            "  {\n",
            "    \"userId\": 2,\n",
            "    \"id\": 15,\n",
            "    \"title\": \"eveniet quod temporibus\",\n",
            "    \"body\": \"reprehenderit quos placeat\\nvelit minima officia dolores impedit repudiandae molestiae nam\\nvoluptas recusandae quis delectus\\nofficiis harum fugiat vitae\"\n",
            "  },\n",
            "  {\n",
            "    \"userId\": 2,\n",
            "    \"id\": 16,\n",
            "    \"title\": \"sint suscipit perspiciatis velit dolorum rerum ipsa laboriosam odio\",\n",
            "    \"body\": \"suscipit nam nisi quo aperiam aut\\nasperiores eos fugit maiores voluptatibus quia\\nvoluptatem quis ullam qui in alias quia est\\nconsequatur magni mollitia accusamus ea nisi voluptate dicta\"\n",
            "  },\n",
            "  {\n",
            "    \"userId\": 2,\n",
            "    \"id\": 17,\n",
            "    \"title\": \"fugit voluptas sed molestias voluptatem provident\",\n",
            "    \"body\": \"eos voluptas et aut odit natus earum\\naspernatur fuga molestiae ullam\\ndeserunt ratione qui eos\\nqui nihil ratione nemo velit ut aut id quo\"\n",
            "  },\n",
            "  {\n",
            "    \"userId\": 2,\n",
            "    \"id\": 18,\n",
            "    \"title\": \"voluptate et itaque vero tempora molestiae\",\n",
            "    \"body\": \"eveniet quo quis\\nlaborum totam consequatur non dolor\\nut et est repudiandae\\nest voluptatem vel debitis et magnam\"\n",
            "  },\n",
            "  {\n",
            "    \"userId\": 2,\n",
            "    \"id\": 19,\n",
            "    \"title\": \"adipisci placeat illum aut reiciendis qui\",\n",
            "    \"body\": \"illum quis cupiditate provident sit magnam\\nea sed aut omnis\\nveniam maiores ullam consequatur atque\\nadipisci quo iste expedita sit quos voluptas\"\n",
            "  },\n",
            "  {\n",
            "    \"userId\": 2,\n",
            "    \"id\": 20,\n",
            "    \"title\": \"doloribus ad provident suscipit at\",\n",
            "    \"body\": \"qui consequuntur ducimus possimus quisquam amet similique\\nsuscipit porro ipsam amet\\neos veritatis officiis exercitationem vel fugit aut necessitatibus totam\\nomnis rerum consequatur expedita quidem cumque explicabo\"\n",
            "  },\n",
            "  {\n",
            "    \"userId\": 3,\n",
            "    \"id\": 21,\n",
            "    \"title\": \"asperiores ea ipsam voluptatibus modi minima quia sint\",\n",
            "    \"body\": \"repellat aliquid praesentium dolorem quo\\nsed totam minus non itaque\\nnihil labore molestiae sunt dolor eveniet hic recusandae veniam\\ntempora et tenetur expedita sunt\"\n",
            "  },\n",
            "  {\n",
            "    \"userId\": 3,\n",
            "    \"id\": 22,\n",
            "    \"title\": \"dolor sint quo a velit explicabo quia nam\",\n",
            "    \"body\": \"eos qui et ipsum ipsam suscipit aut\\nsed omnis non odio\\nexpedita earum mollitia molestiae aut atque rem suscipit\\nnam impedit esse\"\n",
            "  },\n",
            "  {\n",
            "    \"userId\": 3,\n",
            "    \"id\": 23,\n",
            "    \"title\": \"maxime id vitae nihil numquam\",\n",
            "    \"body\": \"veritatis unde neque eligendi\\nquae quod architecto quo neque vitae\\nest illo sit tempora doloremque fugit quod\\net et vel beatae sequi ullam sed tenetur perspiciatis\"\n",
            "  },\n",
            "  {\n",
            "    \"userId\": 3,\n",
            "    \"id\": 24,\n",
            "    \"title\": \"autem hic labore sunt dolores incidunt\",\n",
            "    \"body\": \"enim et ex nulla\\nomnis voluptas quia qui\\nvoluptatem consequatur numquam aliquam sunt\\ntotam recusandae id dignissimos aut sed asperiores deserunt\"\n",
            "  },\n",
            "  {\n",
            "    \"userId\": 3,\n",
            "    \"id\": 25,\n",
            "    \"title\": \"rem alias distinctio quo quis\",\n",
            "    \"body\": \"ullam consequatur ut\\nomnis quis sit vel consequuntur\\nipsa eligendi ipsum molestiae et omnis error nostrum\\nmolestiae illo tempore quia et distinctio\"\n",
            "  },\n",
            "  {\n",
            "    \"userId\": 3,\n",
            "    \"id\": 26,\n",
            "    \"title\": \"est et quae odit qui non\",\n",
            "    \"body\": \"similique esse doloribus nihil accusamus\\nomnis dolorem fuga consequuntur reprehenderit fugit recusandae temporibus\\nperspiciatis cum ut laudantium\\nomnis aut molestiae vel vero\"\n",
            "  },\n",
            "  {\n",
            "    \"userId\": 3,\n",
            "    \"id\": 27,\n",
            "    \"title\": \"quasi id et eos tenetur aut quo autem\",\n",
            "    \"body\": \"eum sed dolores ipsam sint possimus debitis occaecati\\ndebitis qui qui et\\nut placeat enim earum aut odit facilis\\nconsequatur suscipit necessitatibus rerum sed inventore temporibus consequatur\"\n",
            "  },\n",
            "  {\n",
            "    \"userId\": 3,\n",
            "    \"id\": 28,\n",
            "    \"title\": \"delectus ullam et corporis nulla voluptas sequi\",\n",
            "    \"body\": \"non et quaerat ex quae ad maiores\\nmaiores recusandae totam aut blanditiis mollitia quas illo\\nut voluptatibus voluptatem\\nsimilique nostrum eum\"\n",
            "  },\n",
            "  {\n",
            "    \"userId\": 3,\n",
            "    \"id\": 29,\n",
            "    \"title\": \"iusto eius quod necessitatibus culpa ea\",\n",
            "    \"body\": \"odit magnam ut saepe sed non qui\\ntempora atque nihil\\naccusamus illum doloribus illo dolor\\neligendi repudiandae odit magni similique sed cum maiores\"\n",
            "  },\n",
            "  {\n",
            "    \"userId\": 3,\n",
            "    \"id\": 30,\n",
            "    \"title\": \"a quo magni similique perferendis\",\n",
            "    \"body\": \"alias dolor cumque\\nimpedit blanditiis non eveniet odio maxime\\nblanditiis amet eius quis tempora quia autem rem\\na provident perspiciatis quia\"\n",
            "  },\n",
            "  {\n",
            "    \"userId\": 4,\n",
            "    \"id\": 31,\n",
            "    \"title\": \"ullam ut quidem id aut vel consequuntur\",\n",
            "    \"body\": \"debitis eius sed quibusdam non quis consectetur vitae\\nimpedit ut qui consequatur sed aut in\\nquidem sit nostrum et maiores adipisci atque\\nquaerat voluptatem adipisci repudiandae\"\n",
            "  },\n",
            "  {\n",
            "    \"userId\": 4,\n",
            "    \"id\": 32,\n",
            "    \"title\": \"doloremque illum aliquid sunt\",\n",
            "    \"body\": \"deserunt eos nobis asperiores et hic\\nest debitis repellat molestiae optio\\nnihil ratione ut eos beatae quibusdam distinctio maiores\\nearum voluptates et aut adipisci ea maiores voluptas maxime\"\n",
            "  },\n",
            "  {\n",
            "    \"userId\": 4,\n",
            "    \"id\": 33,\n",
            "    \"title\": \"qui explicabo molestiae dolorem\",\n",
            "    \"body\": \"rerum ut et numquam laborum odit est sit\\nid qui sint in\\nquasi tenetur tempore aperiam et quaerat qui in\\nrerum officiis sequi cumque quod\"\n",
            "  },\n",
            "  {\n",
            "    \"userId\": 4,\n",
            "    \"id\": 34,\n",
            "    \"title\": \"magnam ut rerum iure\",\n",
            "    \"body\": \"ea velit perferendis earum ut voluptatem voluptate itaque iusto\\ntotam pariatur in\\nnemo voluptatem voluptatem autem magni tempora minima in\\nest distinctio qui assumenda accusamus dignissimos officia nesciunt nobis\"\n",
            "  },\n",
            "  {\n",
            "    \"userId\": 4,\n",
            "    \"id\": 35,\n",
            "    \"title\": \"id nihil consequatur molestias animi provident\",\n",
            "    \"body\": \"nisi error delectus possimus ut eligendi vitae\\nplaceat eos harum cupiditate facilis reprehenderit voluptatem beatae\\nmodi ducimus quo illum voluptas eligendi\\net nobis quia fugit\"\n",
            "  },\n",
            "  {\n",
            "    \"userId\": 4,\n",
            "    \"id\": 36,\n",
            "    \"title\": \"fuga nam accusamus voluptas reiciendis itaque\",\n",
            "    \"body\": \"ad mollitia et omnis minus architecto odit\\nvoluptas doloremque maxime aut non ipsa qui alias veniam\\nblanditiis culpa aut quia nihil cumque facere et occaecati\\nqui aspernatur quia eaque ut aperiam inventore\"\n",
            "  },\n",
            "  {\n",
            "    \"userId\": 4,\n",
            "    \"id\": 37,\n",
            "    \"title\": \"provident vel ut sit ratione est\",\n",
            "    \"body\": \"debitis et eaque non officia sed nesciunt pariatur vel\\nvoluptatem iste vero et ea\\nnumquam aut expedita ipsum nulla in\\nvoluptates omnis consequatur aut enim officiis in quam qui\"\n",
            "  },\n",
            "  {\n",
            "    \"userId\": 4,\n",
            "    \"id\": 38,\n",
            "    \"title\": \"explicabo et eos deleniti nostrum ab id repellendus\",\n",
            "    \"body\": \"animi esse sit aut sit nesciunt assumenda eum voluptas\\nquia voluptatibus provident quia necessitatibus ea\\nrerum repudiandae quia voluptatem delectus fugit aut id quia\\nratione optio eos iusto veniam iure\"\n",
            "  },\n",
            "  {\n",
            "    \"userId\": 4,\n",
            "    \"id\": 39,\n",
            "    \"title\": \"eos dolorem iste accusantium est eaque quam\",\n",
            "    \"body\": \"corporis rerum ducimus vel eum accusantium\\nmaxime aspernatur a porro possimus iste omnis\\nest in deleniti asperiores fuga aut\\nvoluptas sapiente vel dolore minus voluptatem incidunt ex\"\n",
            "  },\n",
            "  {\n",
            "    \"userId\": 4,\n",
            "    \"id\": 40,\n",
            "    \"title\": \"enim quo cumque\",\n",
            "    \"body\": \"ut voluptatum aliquid illo tenetur nemo sequi quo facilis\\nipsum rem optio mollitia quas\\nvoluptatem eum voluptas qui\\nunde omnis voluptatem iure quasi maxime voluptas nam\"\n",
            "  },\n",
            "  {\n",
            "    \"userId\": 5,\n",
            "    \"id\": 41,\n",
            "    \"title\": \"non est facere\",\n",
            "    \"body\": \"molestias id nostrum\\nexcepturi molestiae dolore omnis repellendus quaerat saepe\\nconsectetur iste quaerat tenetur asperiores accusamus ex ut\\nnam quidem est ducimus sunt debitis saepe\"\n",
            "  },\n",
            "  {\n",
            "    \"userId\": 5,\n",
            "    \"id\": 42,\n",
            "    \"title\": \"commodi ullam sint et excepturi error explicabo praesentium voluptas\",\n",
            "    \"body\": \"odio fugit voluptatum ducimus earum autem est incidunt voluptatem\\nodit reiciendis aliquam sunt sequi nulla dolorem\\nnon facere repellendus voluptates quia\\nratione harum vitae ut\"\n",
            "  },\n",
            "  {\n",
            "    \"userId\": 5,\n",
            "    \"id\": 43,\n",
            "    \"title\": \"eligendi iste nostrum consequuntur adipisci praesentium sit beatae perferendis\",\n",
            "    \"body\": \"similique fugit est\\nillum et dolorum harum et voluptate eaque quidem\\nexercitationem quos nam commodi possimus cum odio nihil nulla\\ndolorum exercitationem magnam ex et a et distinctio debitis\"\n",
            "  },\n",
            "  {\n",
            "    \"userId\": 5,\n",
            "    \"id\": 44,\n",
            "    \"title\": \"optio dolor molestias sit\",\n",
            "    \"body\": \"temporibus est consectetur dolore\\net libero debitis vel velit laboriosam quia\\nipsum quibusdam qui itaque fuga rem aut\\nea et iure quam sed maxime ut distinctio quae\"\n",
            "  },\n",
            "  {\n",
            "    \"userId\": 5,\n",
            "    \"id\": 45,\n",
            "    \"title\": \"ut numquam possimus omnis eius suscipit laudantium iure\",\n",
            "    \"body\": \"est natus reiciendis nihil possimus aut provident\\nex et dolor\\nrepellat pariatur est\\nnobis rerum repellendus dolorem autem\"\n",
            "  },\n",
            "  {\n",
            "    \"userId\": 5,\n",
            "    \"id\": 46,\n",
            "    \"title\": \"aut quo modi neque nostrum ducimus\",\n",
            "    \"body\": \"voluptatem quisquam iste\\nvoluptatibus natus officiis facilis dolorem\\nquis quas ipsam\\nvel et voluptatum in aliquid\"\n",
            "  },\n",
            "  {\n",
            "    \"userId\": 5,\n",
            "    \"id\": 47,\n",
            "    \"title\": \"quibusdam cumque rem aut deserunt\",\n",
            "    \"body\": \"voluptatem assumenda ut qui ut cupiditate aut impedit veniam\\noccaecati nemo illum voluptatem laudantium\\nmolestiae beatae rerum ea iure soluta nostrum\\neligendi et voluptate\"\n",
            "  },\n",
            "  {\n",
            "    \"userId\": 5,\n",
            "    \"id\": 48,\n",
            "    \"title\": \"ut voluptatem illum ea doloribus itaque eos\",\n",
            "    \"body\": \"voluptates quo voluptatem facilis iure occaecati\\nvel assumenda rerum officia et\\nillum perspiciatis ab deleniti\\nlaudantium repellat ad ut et autem reprehenderit\"\n",
            "  },\n",
            "  {\n",
            "    \"userId\": 5,\n",
            "    \"id\": 49,\n",
            "    \"title\": \"laborum non sunt aut ut assumenda perspiciatis voluptas\",\n",
            "    \"body\": \"inventore ab sint\\nnatus fugit id nulla sequi architecto nihil quaerat\\neos tenetur in in eum veritatis non\\nquibusdam officiis aspernatur cumque aut commodi aut\"\n",
            "  },\n",
            "  {\n",
            "    \"userId\": 5,\n",
            "    \"id\": 50,\n",
            "    \"title\": \"repellendus qui recusandae incidunt voluptates tenetur qui omnis exercitationem\",\n",
            "    \"body\": \"error suscipit maxime adipisci consequuntur recusandae\\nvoluptas eligendi et est et voluptates\\nquia distinctio ab amet quaerat molestiae et vitae\\nadipisci impedit sequi nesciunt quis consectetur\"\n",
            "  },\n",
            "  {\n",
            "    \"userId\": 6,\n",
            "    \"id\": 51,\n",
            "    \"title\": \"soluta aliquam aperiam consequatur illo quis voluptas\",\n",
            "    \"body\": \"sunt dolores aut doloribus\\ndolore doloribus voluptates tempora et\\ndoloremque et quo\\ncum asperiores sit consectetur dolorem\"\n",
            "  },\n",
            "  {\n",
            "    \"userId\": 6,\n",
            "    \"id\": 52,\n",
            "    \"title\": \"qui enim et consequuntur quia animi quis voluptate quibusdam\",\n",
            "    \"body\": \"iusto est quibusdam fuga quas quaerat molestias\\na enim ut sit accusamus enim\\ntemporibus iusto accusantium provident architecto\\nsoluta esse reprehenderit qui laborum\"\n",
            "  },\n",
            "  {\n",
            "    \"userId\": 6,\n",
            "    \"id\": 53,\n",
            "    \"title\": \"ut quo aut ducimus alias\",\n",
            "    \"body\": \"minima harum praesentium eum rerum illo dolore\\nquasi exercitationem rerum nam\\nporro quis neque quo\\nconsequatur minus dolor quidem veritatis sunt non explicabo similique\"\n",
            "  },\n",
            "  {\n",
            "    \"userId\": 6,\n",
            "    \"id\": 54,\n",
            "    \"title\": \"sit asperiores ipsam eveniet odio non quia\",\n",
            "    \"body\": \"totam corporis dignissimos\\nvitae dolorem ut occaecati accusamus\\nex velit deserunt\\net exercitationem vero incidunt corrupti mollitia\"\n",
            "  },\n",
            "  {\n",
            "    \"userId\": 6,\n",
            "    \"id\": 55,\n",
            "    \"title\": \"sit vel voluptatem et non libero\",\n",
            "    \"body\": \"debitis excepturi ea perferendis harum libero optio\\neos accusamus cum fuga ut sapiente repudiandae\\net ut incidunt omnis molestiae\\nnihil ut eum odit\"\n",
            "  },\n",
            "  {\n",
            "    \"userId\": 6,\n",
            "    \"id\": 56,\n",
            "    \"title\": \"qui et at rerum necessitatibus\",\n",
            "    \"body\": \"aut est omnis dolores\\nneque rerum quod ea rerum velit pariatur beatae excepturi\\net provident voluptas corrupti\\ncorporis harum reprehenderit dolores eligendi\"\n",
            "  },\n",
            "  {\n",
            "    \"userId\": 6,\n",
            "    \"id\": 57,\n",
            "    \"title\": \"sed ab est est\",\n",
            "    \"body\": \"at pariatur consequuntur earum quidem\\nquo est laudantium soluta voluptatem\\nqui ullam et est\\net cum voluptas voluptatum repellat est\"\n",
            "  },\n",
            "  {\n",
            "    \"userId\": 6,\n",
            "    \"id\": 58,\n",
            "    \"title\": \"voluptatum itaque dolores nisi et quasi\",\n",
            "    \"body\": \"veniam voluptatum quae adipisci id\\net id quia eos ad et dolorem\\naliquam quo nisi sunt eos impedit error\\nad similique veniam\"\n",
            "  },\n",
            "  {\n",
            "    \"userId\": 6,\n",
            "    \"id\": 59,\n",
            "    \"title\": \"qui commodi dolor at maiores et quis id accusantium\",\n",
            "    \"body\": \"perspiciatis et quam ea autem temporibus non voluptatibus qui\\nbeatae a earum officia nesciunt dolores suscipit voluptas et\\nanimi doloribus cum rerum quas et magni\\net hic ut ut commodi expedita sunt\"\n",
            "  },\n",
            "  {\n",
            "    \"userId\": 6,\n",
            "    \"id\": 60,\n",
            "    \"title\": \"consequatur placeat omnis quisquam quia reprehenderit fugit veritatis facere\",\n",
            "    \"body\": \"asperiores sunt ab assumenda cumque modi velit\\nqui esse omnis\\nvoluptate et fuga perferendis voluptas\\nillo ratione amet aut et omnis\"\n",
            "  },\n",
            "  {\n",
            "    \"userId\": 7,\n",
            "    \"id\": 61,\n",
            "    \"title\": \"voluptatem doloribus consectetur est ut ducimus\",\n",
            "    \"body\": \"ab nemo optio odio\\ndelectus tenetur corporis similique nobis repellendus rerum omnis facilis\\nvero blanditiis debitis in nesciunt doloribus dicta dolores\\nmagnam minus velit\"\n",
            "  },\n",
            "  {\n",
            "    \"userId\": 7,\n",
            "    \"id\": 62,\n",
            "    \"title\": \"beatae enim quia vel\",\n",
            "    \"body\": \"enim aspernatur illo distinctio quae praesentium\\nbeatae alias amet delectus qui voluptate distinctio\\nodit sint accusantium autem omnis\\nquo molestiae omnis ea eveniet optio\"\n",
            "  },\n",
            "  {\n",
            "    \"userId\": 7,\n",
            "    \"id\": 63,\n",
            "    \"title\": \"voluptas blanditiis repellendus animi ducimus error sapiente et suscipit\",\n",
            "    \"body\": \"enim adipisci aspernatur nemo\\nnumquam omnis facere dolorem dolor ex quis temporibus incidunt\\nab delectus culpa quo reprehenderit blanditiis asperiores\\naccusantium ut quam in voluptatibus voluptas ipsam dicta\"\n",
            "  },\n",
            "  {\n",
            "    \"userId\": 7,\n",
            "    \"id\": 64,\n",
            "    \"title\": \"et fugit quas eum in in aperiam quod\",\n",
            "    \"body\": \"id velit blanditiis\\neum ea voluptatem\\nmolestiae sint occaecati est eos perspiciatis\\nincidunt a error provident eaque aut aut qui\"\n",
            "  },\n",
            "  {\n",
            "    \"userId\": 7,\n",
            "    \"id\": 65,\n",
            "    \"title\": \"consequatur id enim sunt et et\",\n",
            "    \"body\": \"voluptatibus ex esse\\nsint explicabo est aliquid cumque adipisci fuga repellat labore\\nmolestiae corrupti ex saepe at asperiores et perferendis\\nnatus id esse incidunt pariatur\"\n",
            "  },\n",
            "  {\n",
            "    \"userId\": 7,\n",
            "    \"id\": 66,\n",
            "    \"title\": \"repudiandae ea animi iusto\",\n",
            "    \"body\": \"officia veritatis tenetur vero qui itaque\\nsint non ratione\\nsed et ut asperiores iusto eos molestiae nostrum\\nveritatis quibusdam et nemo iusto saepe\"\n",
            "  },\n",
            "  {\n",
            "    \"userId\": 7,\n",
            "    \"id\": 67,\n",
            "    \"title\": \"aliquid eos sed fuga est maxime repellendus\",\n",
            "    \"body\": \"reprehenderit id nostrum\\nvoluptas doloremque pariatur sint et accusantium quia quod aspernatur\\net fugiat amet\\nnon sapiente et consequatur necessitatibus molestiae\"\n",
            "  },\n",
            "  {\n",
            "    \"userId\": 7,\n",
            "    \"id\": 68,\n",
            "    \"title\": \"odio quis facere architecto reiciendis optio\",\n",
            "    \"body\": \"magnam molestiae perferendis quisquam\\nqui cum reiciendis\\nquaerat animi amet hic inventore\\nea quia deleniti quidem saepe porro velit\"\n",
            "  },\n",
            "  {\n",
            "    \"userId\": 7,\n",
            "    \"id\": 69,\n",
            "    \"title\": \"fugiat quod pariatur odit minima\",\n",
            "    \"body\": \"officiis error culpa consequatur modi asperiores et\\ndolorum assumenda voluptas et vel qui aut vel rerum\\nvoluptatum quisquam perspiciatis quia rerum consequatur totam quas\\nsequi commodi repudiandae asperiores et saepe a\"\n",
            "  },\n",
            "  {\n",
            "    \"userId\": 7,\n",
            "    \"id\": 70,\n",
            "    \"title\": \"voluptatem laborum magni\",\n",
            "    \"body\": \"sunt repellendus quae\\nest asperiores aut deleniti esse accusamus repellendus quia aut\\nquia dolorem unde\\neum tempora esse dolore\"\n",
            "  },\n",
            "  {\n",
            "    \"userId\": 8,\n",
            "    \"id\": 71,\n",
            "    \"title\": \"et iusto veniam et illum aut fuga\",\n",
            "    \"body\": \"occaecati a doloribus\\niste saepe consectetur placeat eum voluptate dolorem et\\nqui quo quia voluptas\\nrerum ut id enim velit est perferendis\"\n",
            "  },\n",
            "  {\n",
            "    \"userId\": 8,\n",
            "    \"id\": 72,\n",
            "    \"title\": \"sint hic doloribus consequatur eos non id\",\n",
            "    \"body\": \"quam occaecati qui deleniti consectetur\\nconsequatur aut facere quas exercitationem aliquam hic voluptas\\nneque id sunt ut aut accusamus\\nsunt consectetur expedita inventore velit\"\n",
            "  },\n",
            "  {\n",
            "    \"userId\": 8,\n",
            "    \"id\": 73,\n",
            "    \"title\": \"consequuntur deleniti eos quia temporibus ab aliquid at\",\n",
            "    \"body\": \"voluptatem cumque tenetur consequatur expedita ipsum nemo quia explicabo\\naut eum minima consequatur\\ntempore cumque quae est et\\net in consequuntur voluptatem voluptates aut\"\n",
            "  },\n",
            "  {\n",
            "    \"userId\": 8,\n",
            "    \"id\": 74,\n",
            "    \"title\": \"enim unde ratione doloribus quas enim ut sit sapiente\",\n",
            "    \"body\": \"odit qui et et necessitatibus sint veniam\\nmollitia amet doloremque molestiae commodi similique magnam et quam\\nblanditiis est itaque\\nquo et tenetur ratione occaecati molestiae tempora\"\n",
            "  },\n",
            "  {\n",
            "    \"userId\": 8,\n",
            "    \"id\": 75,\n",
            "    \"title\": \"dignissimos eum dolor ut enim et delectus in\",\n",
            "    \"body\": \"commodi non non omnis et voluptas sit\\nautem aut nobis magnam et sapiente voluptatem\\net laborum repellat qui delectus facilis temporibus\\nrerum amet et nemo voluptate expedita adipisci error dolorem\"\n",
            "  },\n",
            "  {\n",
            "    \"userId\": 8,\n",
            "    \"id\": 76,\n",
            "    \"title\": \"doloremque officiis ad et non perferendis\",\n",
            "    \"body\": \"ut animi facere\\ntotam iusto tempore\\nmolestiae eum aut et dolorem aperiam\\nquaerat recusandae totam odio\"\n",
            "  },\n",
            "  {\n",
            "    \"userId\": 8,\n",
            "    \"id\": 77,\n",
            "    \"title\": \"necessitatibus quasi exercitationem odio\",\n",
            "    \"body\": \"modi ut in nulla repudiandae dolorum nostrum eos\\naut consequatur omnis\\nut incidunt est omnis iste et quam\\nvoluptates sapiente aliquam asperiores nobis amet corrupti repudiandae provident\"\n",
            "  },\n",
            "  {\n",
            "    \"userId\": 8,\n",
            "    \"id\": 78,\n",
            "    \"title\": \"quam voluptatibus rerum veritatis\",\n",
            "    \"body\": \"nobis facilis odit tempore cupiditate quia\\nassumenda doloribus rerum qui ea\\nillum et qui totam\\naut veniam repellendus\"\n",
            "  },\n",
            "  {\n",
            "    \"userId\": 8,\n",
            "    \"id\": 79,\n",
            "    \"title\": \"pariatur consequatur quia magnam autem omnis non amet\",\n",
            "    \"body\": \"libero accusantium et et facere incidunt sit dolorem\\nnon excepturi qui quia sed laudantium\\nquisquam molestiae ducimus est\\nofficiis esse molestiae iste et quos\"\n",
            "  },\n",
            "  {\n",
            "    \"userId\": 8,\n",
            "    \"id\": 80,\n",
            "    \"title\": \"labore in ex et explicabo corporis aut quas\",\n",
            "    \"body\": \"ex quod dolorem ea eum iure qui provident amet\\nquia qui facere excepturi et repudiandae\\nasperiores molestias provident\\nminus incidunt vero fugit rerum sint sunt excepturi provident\"\n",
            "  },\n",
            "  {\n",
            "    \"userId\": 9,\n",
            "    \"id\": 81,\n",
            "    \"title\": \"tempora rem veritatis voluptas quo dolores vero\",\n",
            "    \"body\": \"facere qui nesciunt est voluptatum voluptatem nisi\\nsequi eligendi necessitatibus ea at rerum itaque\\nharum non ratione velit laboriosam quis consequuntur\\nex officiis minima doloremque voluptas ut aut\"\n",
            "  },\n",
            "  {\n",
            "    \"userId\": 9,\n",
            "    \"id\": 82,\n",
            "    \"title\": \"laudantium voluptate suscipit sunt enim enim\",\n",
            "    \"body\": \"ut libero sit aut totam inventore sunt\\nporro sint qui sunt molestiae\\nconsequatur cupiditate qui iste ducimus adipisci\\ndolor enim assumenda soluta laboriosam amet iste delectus hic\"\n",
            "  },\n",
            "  {\n",
            "    \"userId\": 9,\n",
            "    \"id\": 83,\n",
            "    \"title\": \"odit et voluptates doloribus alias odio et\",\n",
            "    \"body\": \"est molestiae facilis quis tempora numquam nihil qui\\nvoluptate sapiente consequatur est qui\\nnecessitatibus autem aut ipsa aperiam modi dolore numquam\\nreprehenderit eius rem quibusdam\"\n",
            "  },\n",
            "  {\n",
            "    \"userId\": 9,\n",
            "    \"id\": 84,\n",
            "    \"title\": \"optio ipsam molestias necessitatibus occaecati facilis veritatis dolores aut\",\n",
            "    \"body\": \"sint molestiae magni a et quos\\neaque et quasi\\nut rerum debitis similique veniam\\nrecusandae dignissimos dolor incidunt consequatur odio\"\n",
            "  },\n",
            "  {\n",
            "    \"userId\": 9,\n",
            "    \"id\": 85,\n",
            "    \"title\": \"dolore veritatis porro provident adipisci blanditiis et sunt\",\n",
            "    \"body\": \"similique sed nisi voluptas iusto omnis\\nmollitia et quo\\nassumenda suscipit officia magnam sint sed tempora\\nenim provident pariatur praesentium atque animi amet ratione\"\n",
            "  },\n",
            "  {\n",
            "    \"userId\": 9,\n",
            "    \"id\": 86,\n",
            "    \"title\": \"placeat quia et porro iste\",\n",
            "    \"body\": \"quasi excepturi consequatur iste autem temporibus sed molestiae beatae\\net quaerat et esse ut\\nvoluptatem occaecati et vel explicabo autem\\nasperiores pariatur deserunt optio\"\n",
            "  },\n",
            "  {\n",
            "    \"userId\": 9,\n",
            "    \"id\": 87,\n",
            "    \"title\": \"nostrum quis quasi placeat\",\n",
            "    \"body\": \"eos et molestiae\\nnesciunt ut a\\ndolores perspiciatis repellendus repellat aliquid\\nmagnam sint rem ipsum est\"\n",
            "  },\n",
            "  {\n",
            "    \"userId\": 9,\n",
            "    \"id\": 88,\n",
            "    \"title\": \"sapiente omnis fugit eos\",\n",
            "    \"body\": \"consequatur omnis est praesentium\\nducimus non iste\\nneque hic deserunt\\nvoluptatibus veniam cum et rerum sed\"\n",
            "  },\n",
            "  {\n",
            "    \"userId\": 9,\n",
            "    \"id\": 89,\n",
            "    \"title\": \"sint soluta et vel magnam aut ut sed qui\",\n",
            "    \"body\": \"repellat aut aperiam totam temporibus autem et\\narchitecto magnam ut\\nconsequatur qui cupiditate rerum quia soluta dignissimos nihil iure\\ntempore quas est\"\n",
            "  },\n",
            "  {\n",
            "    \"userId\": 9,\n",
            "    \"id\": 90,\n",
            "    \"title\": \"ad iusto omnis odit dolor voluptatibus\",\n",
            "    \"body\": \"minus omnis soluta quia\\nqui sed adipisci voluptates illum ipsam voluptatem\\neligendi officia ut in\\neos soluta similique molestias praesentium blanditiis\"\n",
            "  },\n",
            "  {\n",
            "    \"userId\": 10,\n",
            "    \"id\": 91,\n",
            "    \"title\": \"aut amet sed\",\n",
            "    \"body\": \"libero voluptate eveniet aperiam sed\\nsunt placeat suscipit molestias\\nsimilique fugit nam natus\\nexpedita consequatur consequatur dolores quia eos et placeat\"\n",
            "  },\n",
            "  {\n",
            "    \"userId\": 10,\n",
            "    \"id\": 92,\n",
            "    \"title\": \"ratione ex tenetur perferendis\",\n",
            "    \"body\": \"aut et excepturi dicta laudantium sint rerum nihil\\nlaudantium et at\\na neque minima officia et similique libero et\\ncommodi voluptate qui\"\n",
            "  },\n",
            "  {\n",
            "    \"userId\": 10,\n",
            "    \"id\": 93,\n",
            "    \"title\": \"beatae soluta recusandae\",\n",
            "    \"body\": \"dolorem quibusdam ducimus consequuntur dicta aut quo laboriosam\\nvoluptatem quis enim recusandae ut sed sunt\\nnostrum est odit totam\\nsit error sed sunt eveniet provident qui nulla\"\n",
            "  },\n",
            "  {\n",
            "    \"userId\": 10,\n",
            "    \"id\": 94,\n",
            "    \"title\": \"qui qui voluptates illo iste minima\",\n",
            "    \"body\": \"aspernatur expedita soluta quo ab ut similique\\nexpedita dolores amet\\nsed temporibus distinctio magnam saepe deleniti\\nomnis facilis nam ipsum natus sint similique omnis\"\n",
            "  },\n",
            "  {\n",
            "    \"userId\": 10,\n",
            "    \"id\": 95,\n",
            "    \"title\": \"id minus libero illum nam ad officiis\",\n",
            "    \"body\": \"earum voluptatem facere provident blanditiis velit laboriosam\\npariatur accusamus odio saepe\\ncumque dolor qui a dicta ab doloribus consequatur omnis\\ncorporis cupiditate eaque assumenda ad nesciunt\"\n",
            "  },\n",
            "  {\n",
            "    \"userId\": 10,\n",
            "    \"id\": 96,\n",
            "    \"title\": \"quaerat velit veniam amet cupiditate aut numquam ut sequi\",\n",
            "    \"body\": \"in non odio excepturi sint eum\\nlabore voluptates vitae quia qui et\\ninventore itaque rerum\\nveniam non exercitationem delectus aut\"\n",
            "  },\n",
            "  {\n",
            "    \"userId\": 10,\n",
            "    \"id\": 97,\n",
            "    \"title\": \"quas fugiat ut perspiciatis vero provident\",\n",
            "    \"body\": \"eum non blanditiis soluta porro quibusdam voluptas\\nvel voluptatem qui placeat dolores qui velit aut\\nvel inventore aut cumque culpa explicabo aliquid at\\nperspiciatis est et voluptatem dignissimos dolor itaque sit nam\"\n",
            "  },\n",
            "  {\n",
            "    \"userId\": 10,\n",
            "    \"id\": 98,\n",
            "    \"title\": \"laboriosam dolor voluptates\",\n",
            "    \"body\": \"doloremque ex facilis sit sint culpa\\nsoluta assumenda eligendi non ut eius\\nsequi ducimus vel quasi\\nveritatis est dolores\"\n",
            "  },\n",
            "  {\n",
            "    \"userId\": 10,\n",
            "    \"id\": 99,\n",
            "    \"title\": \"temporibus sit alias delectus eligendi possimus magni\",\n",
            "    \"body\": \"quo deleniti praesentium dicta non quod\\naut est molestias\\nmolestias et officia quis nihil\\nitaque dolorem quia\"\n",
            "  },\n",
            "  {\n",
            "    \"userId\": 10,\n",
            "    \"id\": 100,\n",
            "    \"title\": \"at nam consequatur ea labore ea harum\",\n",
            "    \"body\": \"cupiditate quo est a modi nesciunt soluta\\nipsa voluptas error itaque dicta in\\nautem qui minus magnam et distinctio eum\\naccusamus ratione error aut\"\n",
            "  }\n",
            "]\n"
          ]
        }
      ]
    },
    {
      "cell_type": "code",
      "source": [
        "params = {'id': 10}\n",
        "response = requests.get(\"https://jsonplaceholder.typicode.com/posts\",params=params)\n",
        "# print(response.json())\n",
        "print(response.text)"
      ],
      "metadata": {
        "colab": {
          "base_uri": "https://localhost:8080/"
        },
        "id": "V0tfOrbsSc5l",
        "outputId": "5d2b6421-c54a-4ac3-a6c8-bfa76523a80a"
      },
      "execution_count": 14,
      "outputs": [
        {
          "output_type": "stream",
          "name": "stdout",
          "text": [
            "[\n",
            "  {\n",
            "    \"userId\": 1,\n",
            "    \"id\": 10,\n",
            "    \"title\": \"optio molestias id quia eum\",\n",
            "    \"body\": \"quo et expedita modi cum officia vel magni\\ndoloribus qui repudiandae\\nvero nisi sit\\nquos veniam quod sed accusamus veritatis error\"\n",
            "  }\n",
            "]\n"
          ]
        }
      ]
    },
    {
      "cell_type": "markdown",
      "source": [],
      "metadata": {
        "id": "0O0Ipry5XfZL"
      }
    },
    {
      "cell_type": "markdown",
      "source": [],
      "metadata": {
        "id": "B483UGuMXfdc"
      }
    },
    {
      "cell_type": "code",
      "source": [],
      "metadata": {
        "id": "YUdspQZmXflk"
      },
      "execution_count": null,
      "outputs": []
    },
    {
      "cell_type": "code",
      "source": [
        "url = \"https://api.open-meteo.com/v1/forecast\"\n",
        "\n",
        "params = {\n",
        "    \"latitude\": 43.65107,\n",
        "    \"longitude\": -79.347015,\n",
        "    \"current_weather\": True\n",
        "}\n",
        "\n",
        "response = requests.get(url, params=params)\n"
      ],
      "metadata": {
        "id": "rPPyUS-cXfp5"
      },
      "execution_count": 15,
      "outputs": []
    },
    {
      "cell_type": "markdown",
      "source": [],
      "metadata": {
        "id": "DD8gzQ9YX2iK"
      }
    },
    {
      "cell_type": "code",
      "source": [
        "print(response.text)"
      ],
      "metadata": {
        "id": "ghqvupNuX2oC"
      },
      "execution_count": null,
      "outputs": []
    },
    {
      "cell_type": "code",
      "source": [],
      "metadata": {
        "colab": {
          "base_uri": "https://localhost:8080/"
        },
        "id": "l6DQDJTkXfsV",
        "outputId": "b2a2638b-27a0-4497-ff2b-88c0374d8b95"
      },
      "execution_count": null,
      "outputs": [
        {
          "output_type": "stream",
          "name": "stdout",
          "text": [
            "{\"latitude\":43.641342,\"longitude\":-79.34631,\"generationtime_ms\":0.07784366607666016,\"utc_offset_seconds\":0,\"timezone\":\"GMT\",\"timezone_abbreviation\":\"GMT\",\"elevation\":76.0,\"current_weather_units\":{\"time\":\"iso8601\",\"interval\":\"seconds\",\"temperature\":\"°C\",\"windspeed\":\"km/h\",\"winddirection\":\"°\",\"is_day\":\"\",\"weathercode\":\"wmo code\"},\"current_weather\":{\"time\":\"2025-05-13T15:45\",\"interval\":900,\"temperature\":15.2,\"windspeed\":13.7,\"winddirection\":67,\"is_day\":1,\"weathercode\":3}}\n"
          ]
        }
      ]
    },
    {
      "cell_type": "markdown",
      "source": [
        "# ***real life api get and post request with weather forecasting***"
      ],
      "metadata": {
        "id": "O2G3HEOAxFCE"
      }
    },
    {
      "cell_type": "code",
      "source": [
        "import requests\n",
        "import json\n",
        "import csv\n",
        "\n",
        "# --- Step 1: API Call ---\n",
        "url = \"https://api.open-meteo.com/v1/forecast\"\n",
        "params = {\n",
        "    \"latitude\": 23.8103,     # Dhaka latitude\n",
        "    \"longitude\": 90.4125,    # Dhaka longitude\n",
        "    \"current_weather\": True\n",
        "}\n",
        "\n",
        "response = requests.get(url, params=params)\n",
        "\n",
        "# --- Step 2: Check and Extract Data ---\n",
        "if response.status_code == 200:\n",
        "    data = response.json()\n",
        "    weather = data[\"current_weather\"]\n",
        "\n",
        "    print(f\" Weather in Dhaka:\")\n",
        "    print(f\"Temperature: {weather['temperature']}°C\")\n",
        "    print(f\"Windspeed: {weather['windspeed']} km/h\")\n",
        "    print(f\"Time: {weather['time']}\")\n",
        "\n",
        "    # --- Step 3a: Save to JSON ---\n",
        "    with open(\"weather_dhaka.json\", \"w\") as json_file:\n",
        "        json.dump(weather, json_file, indent=4)\n",
        "        print(\" Saved to weather_dhaka.json\")\n",
        "\n",
        "    # --- Step 3b: Save to CSV ---\n",
        "    with open(\"weather_dhaka.csv\", \"w\", newline=\"\") as csv_file:\n",
        "        writer = csv.DictWriter(csv_file, fieldnames=weather.keys())\n",
        "        writer.writeheader()\n",
        "        writer.writerow(weather)\n",
        "        print(\" Saved to weather_dhaka.csv\")\n",
        "\n",
        "else:\n",
        "    print(\" Error fetching weather data:\", response.status_code)\n"
      ],
      "metadata": {
        "colab": {
          "base_uri": "https://localhost:8080/"
        },
        "id": "cGTqHnrUX5Uc",
        "outputId": "8f7e9d8e-6375-4a7a-bb7a-5eae75046078"
      },
      "execution_count": 16,
      "outputs": [
        {
          "output_type": "stream",
          "name": "stdout",
          "text": [
            " Weather in Dhaka:\n",
            "Temperature: 32.2°C\n",
            "Windspeed: 7.2 km/h\n",
            "Time: 2025-05-17T11:45\n",
            " Saved to weather_dhaka.json\n",
            " Saved to weather_dhaka.csv\n"
          ]
        }
      ]
    },
    {
      "cell_type": "code",
      "source": [
        "import requests\n",
        "import json\n",
        "import csv\n",
        "\n",
        "# --- Step 1: API Call ---\n",
        "url = \"https://api.open-meteo.com/v1/forecast\"\n",
        "params = {\n",
        "    \"latitude\": 23.8103,     # Dhaka latitude\n",
        "    \"longitude\": 90.4125,    # Dhaka longitude\n",
        "    \"current_weather\": True\n",
        "}\n",
        "\n",
        "response = requests.get(url, params=params)\n",
        "\n",
        "# --- Step 2: Check and Extract Data ---\n",
        "if response.status_code == 200:\n",
        "    data = response.json()\n",
        "    weather = data[\"current_weather\"]\n",
        "\n",
        "    print(f\" Weather in Dhaka:\")\n",
        "    print(f\"Temperature: {weather['temperature']}°C\")\n",
        "    print(f\"Windspeed: {weather['windspeed']} km/h\")\n",
        "    print(f\"Time: {weather['time']}\")\n",
        "\n",
        "    # --- Step 3a: Save to JSON ---\n",
        "    with open(\"weather_dhaka.json\", \"w\") as json_file:\n",
        "        json.dump(weather, json_file, indent=4)\n",
        "        print(\" Saved to weather_dhaka.json\")\n",
        "\n",
        "else:\n",
        "    print(\" Error fetching weather data:\", response.status_code)\n"
      ],
      "metadata": {
        "colab": {
          "base_uri": "https://localhost:8080/"
        },
        "id": "cnuZcDMZX5Xk",
        "outputId": "86f6bbd7-fa57-4fdd-9780-f2bb678268f9"
      },
      "execution_count": null,
      "outputs": [
        {
          "output_type": "stream",
          "name": "stdout",
          "text": [
            " Weather in Dhaka:\n",
            "Temperature: 28.0°C\n",
            "Windspeed: 3.9 km/h\n",
            "Time: 2025-05-13T16:15\n",
            " Saved to weather_dhaka.json\n"
          ]
        }
      ]
    },
    {
      "cell_type": "code",
      "source": [],
      "metadata": {
        "id": "oMno7styecYH"
      },
      "execution_count": null,
      "outputs": []
    },
    {
      "cell_type": "code",
      "source": [],
      "metadata": {
        "id": "zNttLdU_ecbH"
      },
      "execution_count": null,
      "outputs": []
    },
    {
      "cell_type": "markdown",
      "source": [],
      "metadata": {
        "id": "gmtWs_oQeby3"
      }
    },
    {
      "cell_type": "markdown",
      "source": [
        "#**Part 2 :  Basics of web scraping**"
      ],
      "metadata": {
        "id": "3PBvbHJdScGP"
      }
    },
    {
      "cell_type": "code",
      "source": [
        "!pip install beautifulsoup4"
      ],
      "metadata": {
        "colab": {
          "base_uri": "https://localhost:8080/"
        },
        "id": "N1M-TezJefN_",
        "outputId": "aba55460-731a-4ef8-8cb1-f154ecb05a00"
      },
      "execution_count": 17,
      "outputs": [
        {
          "output_type": "stream",
          "name": "stdout",
          "text": [
            "Requirement already satisfied: beautifulsoup4 in /usr/local/lib/python3.11/dist-packages (4.13.4)\n",
            "Requirement already satisfied: soupsieve>1.2 in /usr/local/lib/python3.11/dist-packages (from beautifulsoup4) (2.7)\n",
            "Requirement already satisfied: typing-extensions>=4.0.0 in /usr/local/lib/python3.11/dist-packages (from beautifulsoup4) (4.13.2)\n"
          ]
        }
      ]
    },
    {
      "cell_type": "code",
      "source": [
        "import requests"
      ],
      "metadata": {
        "id": "kw2uCPNVefQp"
      },
      "execution_count": 18,
      "outputs": []
    },
    {
      "cell_type": "code",
      "source": [
        "from bs4 import BeautifulSoup"
      ],
      "metadata": {
        "id": "OTsSrim5efTO"
      },
      "execution_count": 19,
      "outputs": []
    },
    {
      "cell_type": "code",
      "source": [],
      "metadata": {
        "colab": {
          "base_uri": "https://localhost:8080/"
        },
        "id": "jeXm9oBse4kC",
        "outputId": "30313a9b-694a-456e-fa41-ed3c9b126db8"
      },
      "execution_count": null,
      "outputs": [
        {
          "output_type": "stream",
          "name": "stdout",
          "text": [
            "Requirement already satisfied: beautifulsoup4 in /usr/local/lib/python3.11/dist-packages (4.13.4)\n",
            "Requirement already satisfied: soupsieve>1.2 in /usr/local/lib/python3.11/dist-packages (from beautifulsoup4) (2.7)\n",
            "Requirement already satisfied: typing-extensions>=4.0.0 in /usr/local/lib/python3.11/dist-packages (from beautifulsoup4) (4.13.2)\n"
          ]
        }
      ]
    },
    {
      "cell_type": "code",
      "source": [
        "from bs4 import BeautifulSoup"
      ],
      "metadata": {
        "id": "wj2dFJh_e8Lz"
      },
      "execution_count": 20,
      "outputs": []
    },
    {
      "cell_type": "code",
      "source": [
        "import requests\n",
        "\n",
        "url = \"https://example.com\"\n",
        "response = requests.get(url)\n",
        "html_content = response.text  # Raw HTML of the page\n",
        "\n",
        "print(html_content[:1000])  # Show first 1000 characters\n"
      ],
      "metadata": {
        "colab": {
          "base_uri": "https://localhost:8080/"
        },
        "id": "eNZIjz-ifdht",
        "outputId": "530db766-43cb-4299-bb3a-a536eb81e448"
      },
      "execution_count": 21,
      "outputs": [
        {
          "output_type": "stream",
          "name": "stdout",
          "text": [
            "<!doctype html>\n",
            "<html>\n",
            "<head>\n",
            "    <title>Example Domain</title>\n",
            "\n",
            "    <meta charset=\"utf-8\" />\n",
            "    <meta http-equiv=\"Content-type\" content=\"text/html; charset=utf-8\" />\n",
            "    <meta name=\"viewport\" content=\"width=device-width, initial-scale=1\" />\n",
            "    <style type=\"text/css\">\n",
            "    body {\n",
            "        background-color: #f0f0f2;\n",
            "        margin: 0;\n",
            "        padding: 0;\n",
            "        font-family: -apple-system, system-ui, BlinkMacSystemFont, \"Segoe UI\", \"Open Sans\", \"Helvetica Neue\", Helvetica, Arial, sans-serif;\n",
            "        \n",
            "    }\n",
            "    div {\n",
            "        width: 600px;\n",
            "        margin: 5em auto;\n",
            "        padding: 2em;\n",
            "        background-color: #fdfdff;\n",
            "        border-radius: 0.5em;\n",
            "        box-shadow: 2px 3px 7px 2px rgba(0,0,0,0.02);\n",
            "    }\n",
            "    a:link, a:visited {\n",
            "        color: #38488f;\n",
            "        text-decoration: none;\n",
            "    }\n",
            "    @media (max-width: 700px) {\n",
            "        div {\n",
            "            margin: 0 auto;\n",
            "            width: auto;\n",
            "        }\n",
            "    }\n",
            "    </style>    \n",
            "</head>\n",
            "\n",
            "<body>\n",
            "<div>\n",
            "    <h1>Example Domain</h1>\n",
            "    <p>This domai\n"
          ]
        }
      ]
    },
    {
      "cell_type": "code",
      "source": [
        "from bs4 import BeautifulSoup\n",
        "\n",
        "soup = BeautifulSoup(html_content, \"html.parser\")\n"
      ],
      "metadata": {
        "id": "chMBpS-ef0M1"
      },
      "execution_count": 22,
      "outputs": []
    },
    {
      "cell_type": "code",
      "source": [
        "print(soup)"
      ],
      "metadata": {
        "colab": {
          "base_uri": "https://localhost:8080/"
        },
        "id": "VQSoGzaefdmN",
        "outputId": "7611fd69-7dc9-4536-e4df-822bb47dcdaa"
      },
      "execution_count": 23,
      "outputs": [
        {
          "output_type": "stream",
          "name": "stdout",
          "text": [
            "<!DOCTYPE html>\n",
            "\n",
            "<html>\n",
            "<head>\n",
            "<title>Example Domain</title>\n",
            "<meta charset=\"utf-8\"/>\n",
            "<meta content=\"text/html; charset=utf-8\" http-equiv=\"Content-type\"/>\n",
            "<meta content=\"width=device-width, initial-scale=1\" name=\"viewport\"/>\n",
            "<style type=\"text/css\">\n",
            "    body {\n",
            "        background-color: #f0f0f2;\n",
            "        margin: 0;\n",
            "        padding: 0;\n",
            "        font-family: -apple-system, system-ui, BlinkMacSystemFont, \"Segoe UI\", \"Open Sans\", \"Helvetica Neue\", Helvetica, Arial, sans-serif;\n",
            "        \n",
            "    }\n",
            "    div {\n",
            "        width: 600px;\n",
            "        margin: 5em auto;\n",
            "        padding: 2em;\n",
            "        background-color: #fdfdff;\n",
            "        border-radius: 0.5em;\n",
            "        box-shadow: 2px 3px 7px 2px rgba(0,0,0,0.02);\n",
            "    }\n",
            "    a:link, a:visited {\n",
            "        color: #38488f;\n",
            "        text-decoration: none;\n",
            "    }\n",
            "    @media (max-width: 700px) {\n",
            "        div {\n",
            "            margin: 0 auto;\n",
            "            width: auto;\n",
            "        }\n",
            "    }\n",
            "    </style>\n",
            "</head>\n",
            "<body>\n",
            "<div>\n",
            "<h1>Example Domain</h1>\n",
            "<p>This domain is for use in illustrative examples in documents. You may use this\n",
            "    domain in literature without prior coordination or asking for permission.</p>\n",
            "<p><a href=\"https://www.iana.org/domains/example\">More information...</a></p>\n",
            "</div>\n",
            "</body>\n",
            "</html>\n",
            "\n"
          ]
        }
      ]
    },
    {
      "cell_type": "code",
      "source": [
        "headings = soup.find_all(\"p\")  # or h2, h3, etc.\n",
        "\n",
        "for h in headings:\n",
        "    print(h.text.strip())\n"
      ],
      "metadata": {
        "colab": {
          "base_uri": "https://localhost:8080/"
        },
        "id": "aJ8r4sGlf87P",
        "outputId": "fc3ebae5-4732-4665-c595-aa12c1ebfdbe"
      },
      "execution_count": 24,
      "outputs": [
        {
          "output_type": "stream",
          "name": "stdout",
          "text": [
            "This domain is for use in illustrative examples in documents. You may use this\n",
            "    domain in literature without prior coordination or asking for permission.\n",
            "More information...\n"
          ]
        }
      ]
    },
    {
      "cell_type": "code",
      "source": [
        "links = soup.find_all(\"a\")\n",
        "\n",
        "for link in links:\n",
        "    print(link.get(\"href\"))  # Get the URL\n"
      ],
      "metadata": {
        "colab": {
          "base_uri": "https://localhost:8080/"
        },
        "id": "JxDc3Ua5g6bS",
        "outputId": "ad3c6247-29ec-4343-d8fa-0011f2fbaeea"
      },
      "execution_count": 25,
      "outputs": [
        {
          "output_type": "stream",
          "name": "stdout",
          "text": [
            "https://www.iana.org/domains/example\n"
          ]
        }
      ]
    },
    {
      "cell_type": "markdown",
      "source": [],
      "metadata": {
        "id": "061KKMhXhVbH"
      }
    },
    {
      "cell_type": "code",
      "source": [
        "import requests\n",
        "\n",
        "url = \"https://www.iana.org/help/example-domains\"\n",
        "response = requests.get(url)\n",
        "html_content = response.text  # Raw HTML of the page\n",
        "\n",
        "print(html_content[:1000])  # Show first 1000 characters\n"
      ],
      "metadata": {
        "colab": {
          "base_uri": "https://localhost:8080/"
        },
        "id": "JpyYPNhWhYU2",
        "outputId": "ccbae91e-0590-4f2a-d39b-ccd09f05df46"
      },
      "execution_count": 26,
      "outputs": [
        {
          "output_type": "stream",
          "name": "stdout",
          "text": [
            "\n",
            "<!doctype html>\n",
            "<html>\n",
            "<head>\n",
            "\t<title>Example Domains</title>\n",
            "\n",
            "\t<meta charset=\"utf-8\" />\n",
            "\t<meta http-equiv=\"Content-type\" content=\"text/html; charset=utf-8\" />\n",
            "\t<meta name=\"viewport\" content=\"width=device-width, initial-scale=1\" />\n",
            "\t\n",
            "\t<link rel=\"stylesheet\" href=\"/_css/2025.01/iana_website.css\"/>\n",
            "\t<link rel=\"shortcut icon\" type=\"image/ico\" href=\"/_img/bookmark_icon.ico\"/>\n",
            "\n",
            "\t<script type=\"text/javascript\" src=\"/_js/jquery.js\"></script>\n",
            "\t<script type=\"text/javascript\" src=\"/_js/iana.js\"></script>\n",
            "\n",
            "\t\n",
            "</head>\n",
            "\n",
            "<body>\n",
            "\n",
            "\n",
            "<header>\n",
            "    <div id=\"header\">\n",
            "        <div id=\"logo\">\n",
            "            <a href=\"/\"><img src=\"/_img/2025.01/iana-logo-header.svg\" alt=\"Homepage\"/></a>\n",
            "        </div>\n",
            "        <div class=\"navigation\">\n",
            "            <ul>\n",
            "                <li><a href=\"/domains\">Domains</a></li>\n",
            "                <li><a href=\"/protocols\">Protocols</a></li>\n",
            "                <li><a href=\"/numbers\">Numbers</a></li>\n",
            "                <li><a href=\"/about\">About</a></li>\n",
            "            </ul>\n",
            "        </div>\n",
            "    </div>\n"
          ]
        }
      ]
    },
    {
      "cell_type": "code",
      "source": [
        "links = soup.find_all(\"p\")\n",
        "print(\"links: \", links)\n",
        "# for link in links:\n",
        "#     print(link.get(\"href\"))  # Get the URL\n"
      ],
      "metadata": {
        "colab": {
          "base_uri": "https://localhost:8080/"
        },
        "id": "W0NCyh2lhVke",
        "outputId": "6a9fd6cb-11fa-4361-cee6-2e5de828bc35"
      },
      "execution_count": 27,
      "outputs": [
        {
          "output_type": "stream",
          "name": "stdout",
          "text": [
            "links:  [<p>This domain is for use in illustrative examples in documents. You may use this\n",
            "    domain in literature without prior coordination or asking for permission.</p>, <p><a href=\"https://www.iana.org/domains/example\">More information...</a></p>]\n"
          ]
        }
      ]
    },
    {
      "cell_type": "markdown",
      "source": [],
      "metadata": {
        "id": "pf0CCkQUhuG_"
      }
    },
    {
      "cell_type": "code",
      "source": [],
      "metadata": {
        "id": "_lVuW5FjhuOx"
      },
      "execution_count": null,
      "outputs": []
    },
    {
      "cell_type": "code",
      "source": [
        "import requests\n",
        "from bs4 import BeautifulSoup\n",
        "\n",
        "# Step 1: Fetch the webpage\n",
        "url = \"https://www.python.org\"\n",
        "response = requests.get(url)\n",
        "soup = BeautifulSoup(response.text, \"html.parser\")\n",
        "\n",
        "# print(soup)\n",
        "\n",
        "# Step 2: Find the news section\n",
        "news = soup.find(\"div\", class_=\"small-widget jobs-widget last\")\n",
        "headlines = news.find_all(\"p\")\n",
        "print(headlines)\n",
        "# for item in headlines:\n",
        "#     print(item.text\n",
        "# # Step 3: Print the headlines\n",
        "# print(\" Latest Python News:\")\n",
        "# for item in headlines:\n",
        "#     title = item.find(\"p\").text.strip()\n",
        "#     date = item.find(\"time\").text.strip()\n",
        "#     print(f\"{date} — {title}\")\n"
      ],
      "metadata": {
        "colab": {
          "base_uri": "https://localhost:8080/"
        },
        "id": "K0jZ6ButhuUZ",
        "outputId": "2863bb65-ac0d-471d-adbe-930da2b3e87a"
      },
      "execution_count": null,
      "outputs": [
        {
          "output_type": "stream",
          "name": "stdout",
          "text": [
            "[<p>Looking for work or have a Python related position that you're trying to hire for? Our <strong>relaunched community-run job board</strong> is the place to go.</p>, <p><a href=\"//jobs.python.org\">jobs.python.org</a></p>]\n"
          ]
        }
      ]
    },
    {
      "cell_type": "markdown",
      "source": [],
      "metadata": {
        "id": "sjLGDPUdjb-J"
      }
    },
    {
      "cell_type": "markdown",
      "source": [],
      "metadata": {
        "id": "DHKOgQYajcAr"
      }
    },
    {
      "cell_type": "code",
      "source": [],
      "metadata": {
        "id": "00VC840hjcIJ"
      },
      "execution_count": null,
      "outputs": []
    },
    {
      "cell_type": "code",
      "source": [
        "import requests\n",
        "from bs4 import BeautifulSoup\n",
        "\n",
        "url = \"http://quotes.toscrape.com\"\n",
        "response = requests.get(url)\n",
        "soup = BeautifulSoup(response.text, \"html.parser\")\n",
        "print(soup)"
      ],
      "metadata": {
        "colab": {
          "base_uri": "https://localhost:8080/"
        },
        "id": "INS4-qlejcKo",
        "outputId": "b5899997-d430-46eb-f1b1-dae267065f85"
      },
      "execution_count": null,
      "outputs": [
        {
          "output_type": "stream",
          "name": "stdout",
          "text": [
            "<!DOCTYPE html>\n",
            "\n",
            "<html lang=\"en\">\n",
            "<head>\n",
            "<meta charset=\"utf-8\"/>\n",
            "<title>Quotes to Scrape</title>\n",
            "<link href=\"/static/bootstrap.min.css\" rel=\"stylesheet\"/>\n",
            "<link href=\"/static/main.css\" rel=\"stylesheet\"/>\n",
            "</head>\n",
            "<body>\n",
            "<div class=\"container\">\n",
            "<div class=\"row header-box\">\n",
            "<div class=\"col-md-8\">\n",
            "<h1>\n",
            "<a href=\"/\" style=\"text-decoration: none\">Quotes to Scrape</a>\n",
            "</h1>\n",
            "</div>\n",
            "<div class=\"col-md-4\">\n",
            "<p>\n",
            "<a href=\"/login\">Login</a>\n",
            "</p>\n",
            "</div>\n",
            "</div>\n",
            "<div class=\"row\">\n",
            "<div class=\"col-md-8\">\n",
            "<div class=\"quote\" itemscope=\"\" itemtype=\"http://schema.org/CreativeWork\">\n",
            "<span class=\"text\" itemprop=\"text\">“The world as we have created it is a process of our thinking. It cannot be changed without changing our thinking.”</span>\n",
            "<span>by <small class=\"author\" itemprop=\"author\">Albert Einstein</small>\n",
            "<a href=\"/author/Albert-Einstein\">(about)</a>\n",
            "</span>\n",
            "<div class=\"tags\">\n",
            "            Tags:\n",
            "            <meta class=\"keywords\" content=\"change,deep-thoughts,thinking,world\" itemprop=\"keywords\"/>\n",
            "<a class=\"tag\" href=\"/tag/change/page/1/\">change</a>\n",
            "<a class=\"tag\" href=\"/tag/deep-thoughts/page/1/\">deep-thoughts</a>\n",
            "<a class=\"tag\" href=\"/tag/thinking/page/1/\">thinking</a>\n",
            "<a class=\"tag\" href=\"/tag/world/page/1/\">world</a>\n",
            "</div>\n",
            "</div>\n",
            "<div class=\"quote\" itemscope=\"\" itemtype=\"http://schema.org/CreativeWork\">\n",
            "<span class=\"text\" itemprop=\"text\">“It is our choices, Harry, that show what we truly are, far more than our abilities.”</span>\n",
            "<span>by <small class=\"author\" itemprop=\"author\">J.K. Rowling</small>\n",
            "<a href=\"/author/J-K-Rowling\">(about)</a>\n",
            "</span>\n",
            "<div class=\"tags\">\n",
            "            Tags:\n",
            "            <meta class=\"keywords\" content=\"abilities,choices\" itemprop=\"keywords\"/>\n",
            "<a class=\"tag\" href=\"/tag/abilities/page/1/\">abilities</a>\n",
            "<a class=\"tag\" href=\"/tag/choices/page/1/\">choices</a>\n",
            "</div>\n",
            "</div>\n",
            "<div class=\"quote\" itemscope=\"\" itemtype=\"http://schema.org/CreativeWork\">\n",
            "<span class=\"text\" itemprop=\"text\">“There are only two ways to live your life. One is as though nothing is a miracle. The other is as though everything is a miracle.”</span>\n",
            "<span>by <small class=\"author\" itemprop=\"author\">Albert Einstein</small>\n",
            "<a href=\"/author/Albert-Einstein\">(about)</a>\n",
            "</span>\n",
            "<div class=\"tags\">\n",
            "            Tags:\n",
            "            <meta class=\"keywords\" content=\"inspirational,life,live,miracle,miracles\" itemprop=\"keywords\"/>\n",
            "<a class=\"tag\" href=\"/tag/inspirational/page/1/\">inspirational</a>\n",
            "<a class=\"tag\" href=\"/tag/life/page/1/\">life</a>\n",
            "<a class=\"tag\" href=\"/tag/live/page/1/\">live</a>\n",
            "<a class=\"tag\" href=\"/tag/miracle/page/1/\">miracle</a>\n",
            "<a class=\"tag\" href=\"/tag/miracles/page/1/\">miracles</a>\n",
            "</div>\n",
            "</div>\n",
            "<div class=\"quote\" itemscope=\"\" itemtype=\"http://schema.org/CreativeWork\">\n",
            "<span class=\"text\" itemprop=\"text\">“The person, be it gentleman or lady, who has not pleasure in a good novel, must be intolerably stupid.”</span>\n",
            "<span>by <small class=\"author\" itemprop=\"author\">Jane Austen</small>\n",
            "<a href=\"/author/Jane-Austen\">(about)</a>\n",
            "</span>\n",
            "<div class=\"tags\">\n",
            "            Tags:\n",
            "            <meta class=\"keywords\" content=\"aliteracy,books,classic,humor\" itemprop=\"keywords\"/>\n",
            "<a class=\"tag\" href=\"/tag/aliteracy/page/1/\">aliteracy</a>\n",
            "<a class=\"tag\" href=\"/tag/books/page/1/\">books</a>\n",
            "<a class=\"tag\" href=\"/tag/classic/page/1/\">classic</a>\n",
            "<a class=\"tag\" href=\"/tag/humor/page/1/\">humor</a>\n",
            "</div>\n",
            "</div>\n",
            "<div class=\"quote\" itemscope=\"\" itemtype=\"http://schema.org/CreativeWork\">\n",
            "<span class=\"text\" itemprop=\"text\">“Imperfection is beauty, madness is genius and it's better to be absolutely ridiculous than absolutely boring.”</span>\n",
            "<span>by <small class=\"author\" itemprop=\"author\">Marilyn Monroe</small>\n",
            "<a href=\"/author/Marilyn-Monroe\">(about)</a>\n",
            "</span>\n",
            "<div class=\"tags\">\n",
            "            Tags:\n",
            "            <meta class=\"keywords\" content=\"be-yourself,inspirational\" itemprop=\"keywords\"/>\n",
            "<a class=\"tag\" href=\"/tag/be-yourself/page/1/\">be-yourself</a>\n",
            "<a class=\"tag\" href=\"/tag/inspirational/page/1/\">inspirational</a>\n",
            "</div>\n",
            "</div>\n",
            "<div class=\"quote\" itemscope=\"\" itemtype=\"http://schema.org/CreativeWork\">\n",
            "<span class=\"text\" itemprop=\"text\">“Try not to become a man of success. Rather become a man of value.”</span>\n",
            "<span>by <small class=\"author\" itemprop=\"author\">Albert Einstein</small>\n",
            "<a href=\"/author/Albert-Einstein\">(about)</a>\n",
            "</span>\n",
            "<div class=\"tags\">\n",
            "            Tags:\n",
            "            <meta class=\"keywords\" content=\"adulthood,success,value\" itemprop=\"keywords\"/>\n",
            "<a class=\"tag\" href=\"/tag/adulthood/page/1/\">adulthood</a>\n",
            "<a class=\"tag\" href=\"/tag/success/page/1/\">success</a>\n",
            "<a class=\"tag\" href=\"/tag/value/page/1/\">value</a>\n",
            "</div>\n",
            "</div>\n",
            "<div class=\"quote\" itemscope=\"\" itemtype=\"http://schema.org/CreativeWork\">\n",
            "<span class=\"text\" itemprop=\"text\">“It is better to be hated for what you are than to be loved for what you are not.”</span>\n",
            "<span>by <small class=\"author\" itemprop=\"author\">André Gide</small>\n",
            "<a href=\"/author/Andre-Gide\">(about)</a>\n",
            "</span>\n",
            "<div class=\"tags\">\n",
            "            Tags:\n",
            "            <meta class=\"keywords\" content=\"life,love\" itemprop=\"keywords\"/>\n",
            "<a class=\"tag\" href=\"/tag/life/page/1/\">life</a>\n",
            "<a class=\"tag\" href=\"/tag/love/page/1/\">love</a>\n",
            "</div>\n",
            "</div>\n",
            "<div class=\"quote\" itemscope=\"\" itemtype=\"http://schema.org/CreativeWork\">\n",
            "<span class=\"text\" itemprop=\"text\">“I have not failed. I've just found 10,000 ways that won't work.”</span>\n",
            "<span>by <small class=\"author\" itemprop=\"author\">Thomas A. Edison</small>\n",
            "<a href=\"/author/Thomas-A-Edison\">(about)</a>\n",
            "</span>\n",
            "<div class=\"tags\">\n",
            "            Tags:\n",
            "            <meta class=\"keywords\" content=\"edison,failure,inspirational,paraphrased\" itemprop=\"keywords\"/>\n",
            "<a class=\"tag\" href=\"/tag/edison/page/1/\">edison</a>\n",
            "<a class=\"tag\" href=\"/tag/failure/page/1/\">failure</a>\n",
            "<a class=\"tag\" href=\"/tag/inspirational/page/1/\">inspirational</a>\n",
            "<a class=\"tag\" href=\"/tag/paraphrased/page/1/\">paraphrased</a>\n",
            "</div>\n",
            "</div>\n",
            "<div class=\"quote\" itemscope=\"\" itemtype=\"http://schema.org/CreativeWork\">\n",
            "<span class=\"text\" itemprop=\"text\">“A woman is like a tea bag; you never know how strong it is until it's in hot water.”</span>\n",
            "<span>by <small class=\"author\" itemprop=\"author\">Eleanor Roosevelt</small>\n",
            "<a href=\"/author/Eleanor-Roosevelt\">(about)</a>\n",
            "</span>\n",
            "<div class=\"tags\">\n",
            "            Tags:\n",
            "            <meta class=\"keywords\" content=\"misattributed-eleanor-roosevelt\" itemprop=\"keywords\"/>\n",
            "<a class=\"tag\" href=\"/tag/misattributed-eleanor-roosevelt/page/1/\">misattributed-eleanor-roosevelt</a>\n",
            "</div>\n",
            "</div>\n",
            "<div class=\"quote\" itemscope=\"\" itemtype=\"http://schema.org/CreativeWork\">\n",
            "<span class=\"text\" itemprop=\"text\">“A day without sunshine is like, you know, night.”</span>\n",
            "<span>by <small class=\"author\" itemprop=\"author\">Steve Martin</small>\n",
            "<a href=\"/author/Steve-Martin\">(about)</a>\n",
            "</span>\n",
            "<div class=\"tags\">\n",
            "            Tags:\n",
            "            <meta class=\"keywords\" content=\"humor,obvious,simile\" itemprop=\"keywords\"/>\n",
            "<a class=\"tag\" href=\"/tag/humor/page/1/\">humor</a>\n",
            "<a class=\"tag\" href=\"/tag/obvious/page/1/\">obvious</a>\n",
            "<a class=\"tag\" href=\"/tag/simile/page/1/\">simile</a>\n",
            "</div>\n",
            "</div>\n",
            "<nav>\n",
            "<ul class=\"pager\">\n",
            "<li class=\"next\">\n",
            "<a href=\"/page/2/\">Next <span aria-hidden=\"true\">→</span></a>\n",
            "</li>\n",
            "</ul>\n",
            "</nav>\n",
            "</div>\n",
            "<div class=\"col-md-4 tags-box\">\n",
            "<h2>Top Ten tags</h2>\n",
            "<span class=\"tag-item\">\n",
            "<a class=\"tag\" href=\"/tag/love/\" style=\"font-size: 28px\">love</a>\n",
            "</span>\n",
            "<span class=\"tag-item\">\n",
            "<a class=\"tag\" href=\"/tag/inspirational/\" style=\"font-size: 26px\">inspirational</a>\n",
            "</span>\n",
            "<span class=\"tag-item\">\n",
            "<a class=\"tag\" href=\"/tag/life/\" style=\"font-size: 26px\">life</a>\n",
            "</span>\n",
            "<span class=\"tag-item\">\n",
            "<a class=\"tag\" href=\"/tag/humor/\" style=\"font-size: 24px\">humor</a>\n",
            "</span>\n",
            "<span class=\"tag-item\">\n",
            "<a class=\"tag\" href=\"/tag/books/\" style=\"font-size: 22px\">books</a>\n",
            "</span>\n",
            "<span class=\"tag-item\">\n",
            "<a class=\"tag\" href=\"/tag/reading/\" style=\"font-size: 14px\">reading</a>\n",
            "</span>\n",
            "<span class=\"tag-item\">\n",
            "<a class=\"tag\" href=\"/tag/friendship/\" style=\"font-size: 10px\">friendship</a>\n",
            "</span>\n",
            "<span class=\"tag-item\">\n",
            "<a class=\"tag\" href=\"/tag/friends/\" style=\"font-size: 8px\">friends</a>\n",
            "</span>\n",
            "<span class=\"tag-item\">\n",
            "<a class=\"tag\" href=\"/tag/truth/\" style=\"font-size: 8px\">truth</a>\n",
            "</span>\n",
            "<span class=\"tag-item\">\n",
            "<a class=\"tag\" href=\"/tag/simile/\" style=\"font-size: 6px\">simile</a>\n",
            "</span>\n",
            "</div>\n",
            "</div>\n",
            "</div>\n",
            "<footer class=\"footer\">\n",
            "<div class=\"container\">\n",
            "<p class=\"text-muted\">\n",
            "                Quotes by: <a href=\"https://www.goodreads.com/quotes\">GoodReads.com</a>\n",
            "</p>\n",
            "<p class=\"copyright\">\n",
            "                Made with <span class=\"zyte\">❤</span> by <a class=\"zyte\" href=\"https://www.zyte.com\">Zyte</a>\n",
            "</p>\n",
            "</div>\n",
            "</footer>\n",
            "</body>\n",
            "</html>\n"
          ]
        }
      ]
    },
    {
      "cell_type": "code",
      "source": [],
      "metadata": {
        "id": "nNh1AMZVjcNB"
      },
      "execution_count": null,
      "outputs": []
    },
    {
      "cell_type": "code",
      "source": [
        "quotes = soup.find_all(\"div\", class_=\"quote\")\n",
        "\n",
        "for quote in quotes:\n",
        "    text = quote.find(\"span\", class_=\"text\").text.strip()\n",
        "    author = quote.find(\"small\", class_=\"author\").text.strip()\n",
        "    print(f\"{text} — {author}\")\n"
      ],
      "metadata": {
        "colab": {
          "base_uri": "https://localhost:8080/"
        },
        "id": "OgGOEkdxjcPa",
        "outputId": "c003978b-d530-4932-f49f-caac7eb0ca87"
      },
      "execution_count": null,
      "outputs": [
        {
          "output_type": "stream",
          "name": "stdout",
          "text": [
            "“The world as we have created it is a process of our thinking. It cannot be changed without changing our thinking.” — Albert Einstein\n",
            "“It is our choices, Harry, that show what we truly are, far more than our abilities.” — J.K. Rowling\n",
            "“There are only two ways to live your life. One is as though nothing is a miracle. The other is as though everything is a miracle.” — Albert Einstein\n",
            "“The person, be it gentleman or lady, who has not pleasure in a good novel, must be intolerably stupid.” — Jane Austen\n",
            "“Imperfection is beauty, madness is genius and it's better to be absolutely ridiculous than absolutely boring.” — Marilyn Monroe\n",
            "“Try not to become a man of success. Rather become a man of value.” — Albert Einstein\n",
            "“It is better to be hated for what you are than to be loved for what you are not.” — André Gide\n",
            "“I have not failed. I've just found 10,000 ways that won't work.” — Thomas A. Edison\n",
            "“A woman is like a tea bag; you never know how strong it is until it's in hot water.” — Eleanor Roosevelt\n",
            "“A day without sunshine is like, you know, night.” — Steve Martin\n"
          ]
        }
      ]
    },
    {
      "cell_type": "code",
      "source": [],
      "metadata": {
        "id": "Oq232nZIjcRx"
      },
      "execution_count": null,
      "outputs": []
    },
    {
      "cell_type": "code",
      "source": [],
      "metadata": {
        "id": "LsQel5smjcUI"
      },
      "execution_count": null,
      "outputs": []
    },
    {
      "cell_type": "markdown",
      "source": [],
      "metadata": {
        "id": "TfNGgkNxjg5g"
      }
    },
    {
      "cell_type": "code",
      "source": [],
      "metadata": {
        "id": "xjjDsBzHjhD7"
      },
      "execution_count": null,
      "outputs": []
    },
    {
      "cell_type": "code",
      "source": [
        "import requests\n",
        "from bs4 import BeautifulSoup\n",
        "import csv\n",
        "import json\n",
        "\n",
        "# Step 1: Fetch the page\n",
        "url = \"http://quotes.toscrape.com\"\n",
        "response = requests.get(url)\n",
        "soup = BeautifulSoup(response.text, \"html.parser\")\n",
        "\n",
        "# Step 2: Extract quotes and authors\n",
        "quotes_data = []\n",
        "\n",
        "quotes = soup.find_all(\"div\", class_=\"quote\")\n",
        "for quote in quotes:\n",
        "    text = quote.find(\"span\", class_=\"text\").text.strip()\n",
        "    author = quote.find(\"small\", class_=\"author\").text.strip()\n",
        "    quotes_data.append({\"quote\": text, \"author\": author})\n",
        "\n",
        "\n",
        "\n",
        "# Step 3: Save to JSON\n",
        "with open(\"quotes.json\", \"w\", encoding=\"utf-8\") as json_file:\n",
        "    json.dump(quotes_data, json_file, indent=4, ensure_ascii=False)\n",
        "    print(\" Saved to quotes.json\")\n"
      ],
      "metadata": {
        "colab": {
          "base_uri": "https://localhost:8080/"
        },
        "id": "aHvxO0dYjhTQ",
        "outputId": "d924aa19-490d-458d-e3ec-f89b61d5b4db"
      },
      "execution_count": null,
      "outputs": [
        {
          "output_type": "stream",
          "name": "stdout",
          "text": [
            " Saved to quotes.json\n"
          ]
        }
      ]
    },
    {
      "cell_type": "code",
      "source": [],
      "metadata": {
        "id": "MBBLorkMjh7X"
      },
      "execution_count": null,
      "outputs": []
    },
    {
      "cell_type": "markdown",
      "source": [],
      "metadata": {
        "id": "2j9WIb--jiuI"
      }
    },
    {
      "cell_type": "code",
      "source": [],
      "metadata": {
        "id": "ivpTzUpKji25"
      },
      "execution_count": null,
      "outputs": []
    },
    {
      "cell_type": "code",
      "source": [],
      "metadata": {
        "id": "6bWmbi-Kjh-D"
      },
      "execution_count": null,
      "outputs": []
    },
    {
      "cell_type": "markdown",
      "source": [],
      "metadata": {
        "id": "2i8YayHjloxA"
      }
    },
    {
      "cell_type": "markdown",
      "source": [],
      "metadata": {
        "id": "MmChE_tblozk"
      }
    },
    {
      "cell_type": "markdown",
      "source": [
        "#**PART 3 :  Introduction to data cleaning with CSV JSON & Pandas**"
      ],
      "metadata": {
        "id": "683HCt1mlo2M"
      }
    },
    {
      "cell_type": "code",
      "source": [],
      "metadata": {
        "id": "_g3C9HKWlsra"
      },
      "execution_count": null,
      "outputs": []
    },
    {
      "cell_type": "code",
      "source": [
        "# data_1a =  {\"Name\": \"John\", \"Age\": 25, \"Email\": \"john@example.com\", \"Salary\": 50000}\n",
        "# # print(type(data_1a))\n",
        "# print(print(data_1a[\"Age\"]))"
      ],
      "metadata": {
        "colab": {
          "base_uri": "https://localhost:8080/"
        },
        "id": "kDY-k_PEmTS1",
        "outputId": "8329a17a-3b18-4c2b-b370-dada2b30a512"
      },
      "execution_count": null,
      "outputs": [
        {
          "output_type": "stream",
          "name": "stdout",
          "text": [
            "25\n",
            "None\n"
          ]
        }
      ]
    },
    {
      "cell_type": "code",
      "source": [
        "import pandas as pd\n",
        "\n",
        "# Step 1: Create the data as a list of dictionaries\n",
        "data = [\n",
        "    {\"Name\": \"John\", \"Age\": 25, \"Email\": \"john@example.com\", \"Salary\": 50000},\n",
        "    {\"Name\": None, \"Age\": 29, \"Email\": \"missing\", \"Salary\": 55000},\n",
        "    {\"Name\": \"Linda\", \"Age\": None, \"Email\": \"linda@example.com\", \"Salary\": None},\n",
        "    {\"Name\": \"Mike\", \"Age\": 22, \"Email\": \"mike@example.com\", \"Salary\": 48000}\n",
        "]\n",
        "\n",
        "# print((data[2]))\n",
        "\n",
        "\n",
        "# Step 2: Create a DataFrame\n",
        "df = pd.DataFrame(data)\n",
        "print(df)\n",
        "\n",
        "# Step 3: Save to CSV\n",
        "df.to_csv(\"people_data.csv\", index=False)\n",
        "print(\" CSV saved as 'people_data.csv'\")\n"
      ],
      "metadata": {
        "colab": {
          "base_uri": "https://localhost:8080/"
        },
        "id": "KPtVKrs9lstr",
        "outputId": "eabc76d1-d152-4f70-dcdd-9a83b0923201"
      },
      "execution_count": null,
      "outputs": [
        {
          "output_type": "stream",
          "name": "stdout",
          "text": [
            "    Name   Age              Email   Salary\n",
            "0   John  25.0   john@example.com  50000.0\n",
            "1   None  29.0            missing  55000.0\n",
            "2  Linda   NaN  linda@example.com      NaN\n",
            "3   Mike  22.0   mike@example.com  48000.0\n",
            " CSV saved as 'people_data.csv'\n"
          ]
        }
      ]
    },
    {
      "cell_type": "code",
      "source": [],
      "metadata": {
        "id": "Zot0xjTzlswf"
      },
      "execution_count": null,
      "outputs": []
    },
    {
      "cell_type": "markdown",
      "source": [],
      "metadata": {
        "id": "c_eJaTz0nmIl"
      }
    },
    {
      "cell_type": "code",
      "source": [
        "import pandas as pd\n",
        "\n",
        "# Load your dataset\n",
        "df = pd.read_csv(\"people_data.csv\")\n",
        "print(df)"
      ],
      "metadata": {
        "colab": {
          "base_uri": "https://localhost:8080/"
        },
        "id": "rx3_K09bnmO3",
        "outputId": "7491f41e-ce68-46b7-fae4-a958725576f7"
      },
      "execution_count": null,
      "outputs": [
        {
          "output_type": "stream",
          "name": "stdout",
          "text": [
            "    Name   Age              Email   Salary\n",
            "0   John  25.0   john@example.com  50000.0\n",
            "1    NaN  29.0            missing  55000.0\n",
            "2  Linda   NaN  linda@example.com      NaN\n",
            "3   Mike  22.0   mike@example.com  48000.0\n"
          ]
        }
      ]
    },
    {
      "cell_type": "code",
      "source": [
        "# print(df.isnull())\n",
        "print(df.isnull().sum())\n"
      ],
      "metadata": {
        "colab": {
          "base_uri": "https://localhost:8080/"
        },
        "id": "EwCGxa0Hnsff",
        "outputId": "436c566b-f845-4c35-9628-8ab2544ca753"
      },
      "execution_count": null,
      "outputs": [
        {
          "output_type": "stream",
          "name": "stdout",
          "text": [
            "Name      1\n",
            "Age       1\n",
            "Email     0\n",
            "Salary    1\n",
            "dtype: int64\n"
          ]
        }
      ]
    },
    {
      "cell_type": "code",
      "source": [
        "df.dropna(inplace=True)           # Remove rows with any missing value\n",
        "df.fillna(0, inplace=True)        # Replace NaNs with 0\n"
      ],
      "metadata": {
        "id": "O4MkzUjboDvw"
      },
      "execution_count": null,
      "outputs": []
    },
    {
      "cell_type": "code",
      "source": [
        "print(df)"
      ],
      "metadata": {
        "colab": {
          "base_uri": "https://localhost:8080/"
        },
        "id": "MnfnceYeoEpD",
        "outputId": "1b67787a-ae79-4862-ad75-bc4eb70517ac"
      },
      "execution_count": null,
      "outputs": [
        {
          "output_type": "stream",
          "name": "stdout",
          "text": [
            "   Name   Age             Email   Salary\n",
            "0  John  25.0  john@example.com  50000.0\n",
            "3  Mike  22.0  mike@example.com  48000.0\n"
          ]
        }
      ]
    },
    {
      "cell_type": "code",
      "source": [
        "df.drop_duplicates(inplace=True)\n"
      ],
      "metadata": {
        "id": "dTrHkvKToQyk"
      },
      "execution_count": null,
      "outputs": []
    },
    {
      "cell_type": "code",
      "source": [
        "print(df)"
      ],
      "metadata": {
        "id": "fWX6cIwyoSQL",
        "outputId": "6ab7b7c4-5819-46cc-f711-74a65ac1671d",
        "colab": {
          "base_uri": "https://localhost:8080/"
        }
      },
      "execution_count": null,
      "outputs": [
        {
          "output_type": "stream",
          "name": "stdout",
          "text": [
            "   Name   Age             Email   Salary\n",
            "0  John  25.0  john@example.com  50000.0\n",
            "3  Mike  22.0  mike@example.com  48000.0\n"
          ]
        }
      ]
    },
    {
      "cell_type": "markdown",
      "source": [],
      "metadata": {
        "id": "4P5p3HTQjiHW"
      }
    }
  ]
}